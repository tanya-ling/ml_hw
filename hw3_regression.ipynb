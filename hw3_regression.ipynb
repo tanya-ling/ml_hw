{
 "cells": [
  {
   "cell_type": "markdown",
   "metadata": {
    "deletable": true,
    "editable": true
   },
   "source": [
    "# Я решила делать Movies reviews polarity"
   ]
  },
  {
   "cell_type": "code",
   "execution_count": 64,
   "metadata": {
    "collapsed": false,
    "deletable": true,
    "editable": true
   },
   "outputs": [],
   "source": [
    "import numpy as np\n",
    "import pandas as pd\n",
    "import codecs\n",
    "\n",
    "import matplotlib.pyplot as plt\n",
    "import os\n",
    "import random\n",
    "\n",
    "from sklearn.model_selection import train_test_split\n",
    "from nltk import word_tokenize, pos_tag\n",
    "from nltk.stem.wordnet import WordNetLemmatizer\n",
    "from sklearn.feature_extraction.text import CountVectorizer\n",
    "from nltk.corpus import stopwords\n",
    "from nltk.tag.perceptron import PerceptronTagger\n",
    "\n",
    "from sklearn.metrics import classification_report, confusion_matrix\n",
    "\n",
    "from sklearn.linear_model import LogisticRegression\n",
    "from sklearn.naive_bayes import MultinomialNB"
   ]
  },
  {
   "cell_type": "markdown",
   "metadata": {
    "deletable": true,
    "editable": true
   },
   "source": [
    "Сначала загрузим данные и "
   ]
  },
  {
   "cell_type": "code",
   "execution_count": 5,
   "metadata": {
    "collapsed": false,
    "deletable": true,
    "editable": true
   },
   "outputs": [],
   "source": [
    "\n",
    "def get_items(way):\n",
    "    da = []\n",
    "    for filename in os.listdir(way):\n",
    "        f = codecs.open(way + '/' + filename, 'r', 'utf-8')\n",
    "        d = f.read()\n",
    "        da.append(d)\n",
    "        f.close()\n",
    "    return da\n",
    "        \n",
    "way = './review_polarity\\\\txt_sentoken\\\\neg'\n",
    "da_neg = get_items(way)\n",
    "da_pos = get_items('./review_polarity\\\\txt_sentoken\\\\pos')\n",
    "df = pd.DataFrame({'clas' : ['neg' for i in range(1000)] + ['pos' for i in range(1000)], \n",
    "                   'text' : da_neg + da_pos}, columns=['clas', 'text'])\n",
    "\n"
   ]
  },
  {
   "cell_type": "markdown",
   "metadata": {
    "deletable": true,
    "editable": true
   },
   "source": [
    "нормализуем, удалим стоп-слова и векторизуем всё."
   ]
  },
  {
   "cell_type": "code",
   "execution_count": 6,
   "metadata": {
    "collapsed": false,
    "deletable": true,
    "editable": true
   },
   "outputs": [],
   "source": [
    "stop = set(stopwords.words('english'))\n",
    "\n",
    "def tokenize(text):\n",
    "    text = text.lower()\n",
    "    return word_tokenize(text)\n",
    "\n",
    "lmtzr = WordNetLemmatizer()\n",
    "\n",
    "def lemmatize(word):\n",
    "    if word in stop:\n",
    "        return ''\n",
    "    noun = lmtzr.lemmatize(word)\n",
    "    verb = lmtzr.lemmatize(word, 'v')\n",
    "    if verb != word:\n",
    "        if verb in stop:\n",
    "            return ''\n",
    "        return verb \n",
    "    return noun\n",
    "\n",
    "def lematize(text):\n",
    "    text = tokenize(text)\n",
    "    text = ' '.join([lemmatize(word) for word in text])\n",
    "    return text\n",
    "\n",
    "df.text = [lematize(sent) for sent in df.text]\n",
    "\n",
    "\n",
    "# bowed_train_lem = bow.transform(train_lem)\n",
    "# bowed_test_lem = bow.transform(test_lem)"
   ]
  },
  {
   "cell_type": "code",
   "execution_count": 61,
   "metadata": {
    "collapsed": false,
    "deletable": true,
    "editable": true
   },
   "outputs": [
    {
     "name": "stdout",
     "output_type": "stream",
     "text": [
      "<class 'pandas.core.series.Series'>\n"
     ]
    }
   ],
   "source": [
    "bow = CountVectorizer()\n",
    "bow.fit_transform(df.text)\n",
    "df['bowed'] = bow.transform(df.text)\n",
    "print(type(df['bowed']))"
   ]
  },
  {
   "cell_type": "markdown",
   "metadata": {
    "deletable": true,
    "editable": true
   },
   "source": [
    "разделим выборку на трейнинг и тест."
   ]
  },
  {
   "cell_type": "code",
   "execution_count": 73,
   "metadata": {
    "collapsed": false,
    "deletable": true,
    "editable": true
   },
   "outputs": [
    {
     "name": "stdout",
     "output_type": "stream",
     "text": [
      "<class 'pandas.core.frame.DataFrame'>\n",
      "<class 'scipy.sparse.csr.csr_matrix'>\n"
     ]
    }
   ],
   "source": [
    "text_train, text_test, answ_train, answ_test = train_test_split(df[['text', 'bowed']], df.clas, test_size=0.2)\n",
    "print(type(text_train))\n",
    "bowed_text_train = bow.transform(text_train.text)\n",
    "bowed_text_test = bow.transform(text_test.text)\n",
    "print(type(bowed_text_train))"
   ]
  },
  {
   "cell_type": "markdown",
   "metadata": {
    "deletable": true,
    "editable": true
   },
   "source": [
    "теперь нужно проанализировать данные, но я не знаю, что делать. В примере написано про частотные списки, но ведь все леммы уже и так включены в пердикторы, какая разница, что там будет в частотных списках? Точно так же не стоит добавлять ключевые слова, ведь они тоже векторизованы... Пальцем в небо - попробую посмотреть на частотность частей речи, вдруг окажется, например, что в положительных примерах больше прилагательных? Это было бы логично с точки зрения лингвистики."
   ]
  },
  {
   "cell_type": "code",
   "execution_count": 25,
   "metadata": {
    "collapsed": false,
    "deletable": true,
    "editable": true
   },
   "outputs": [
    {
     "data": {
      "text/html": [
       "<div>\n",
       "<table border=\"1\" class=\"dataframe\">\n",
       "  <thead>\n",
       "    <tr style=\"text-align: right;\">\n",
       "      <th></th>\n",
       "      <th>text</th>\n",
       "      <th>bowed</th>\n",
       "      <th>pos_tags</th>\n",
       "    </tr>\n",
       "  </thead>\n",
       "  <tbody>\n",
       "    <tr>\n",
       "      <th>486</th>\n",
       "      <td>begin ? okay ,     : starship trooper  one ...</td>\n",
       "      <td>(0, 9)\\t10\\n  (0, 218)\\t1\\n  (0, 810)\\t1\\n  ...</td>\n",
       "      <td>VB . UH , : NN IN CD JJS NN VBD RB JJ NN . NN ...</td>\n",
       "    </tr>\n",
       "    <tr>\n",
       "      <th>1331</th>\n",
       "      <td>'contact ' show  jodie foster  one   best actr...</td>\n",
       "      <td>(0, 9)\\t10\\n  (0, 218)\\t1\\n  (0, 810)\\t1\\n  ...</td>\n",
       "      <td>NN '' NN NN RB CD JJS NN . VB JJ NN . NN NN . ...</td>\n",
       "    </tr>\n",
       "    <tr>\n",
       "      <th>489</th>\n",
       "      <td>u .  . army utilize  number  book know  field...</td>\n",
       "      <td>(0, 9)\\t10\\n  (0, 218)\\t1\\n  (0, 810)\\t1\\n  ...</td>\n",
       "      <td>NN . . NN JJ NN NN VBP NN JJ NN JJ NN RB DT NN...</td>\n",
       "    </tr>\n",
       "    <tr>\n",
       "      <th>1658</th>\n",
       "      <td>find  courage  face life full-on   difficult t...</td>\n",
       "      <td>(0, 9)\\t10\\n  (0, 218)\\t1\\n  (0, 810)\\t1\\n  ...</td>\n",
       "      <td>NN NN NN NN JJ JJ NN . JJ NN NN NN NN NN . VBP...</td>\n",
       "    </tr>\n",
       "    <tr>\n",
       "      <th>872</th>\n",
       "      <td>fact  charles bronson represent one    importa...</td>\n",
       "      <td>(0, 9)\\t10\\n  (0, 218)\\t1\\n  (0, 810)\\t1\\n  ...</td>\n",
       "      <td>NN NNS VBP VBP CD JJ NN NN CD NN CD JJS RB JJ ...</td>\n",
       "    </tr>\n",
       "  </tbody>\n",
       "</table>\n",
       "</div>"
      ],
      "text/plain": [
       "                                                   text  \\\n",
       "486      begin ? okay ,     : starship trooper  one ...   \n",
       "1331  'contact ' show  jodie foster  one   best actr...   \n",
       "489    u .  . army utilize  number  book know  field...   \n",
       "1658  find  courage  face life full-on   difficult t...   \n",
       "872   fact  charles bronson represent one    importa...   \n",
       "\n",
       "                                                  bowed  \\\n",
       "486     (0, 9)\\t10\\n  (0, 218)\\t1\\n  (0, 810)\\t1\\n  ...   \n",
       "1331    (0, 9)\\t10\\n  (0, 218)\\t1\\n  (0, 810)\\t1\\n  ...   \n",
       "489     (0, 9)\\t10\\n  (0, 218)\\t1\\n  (0, 810)\\t1\\n  ...   \n",
       "1658    (0, 9)\\t10\\n  (0, 218)\\t1\\n  (0, 810)\\t1\\n  ...   \n",
       "872     (0, 9)\\t10\\n  (0, 218)\\t1\\n  (0, 810)\\t1\\n  ...   \n",
       "\n",
       "                                               pos_tags  \n",
       "486   VB . UH , : NN IN CD JJS NN VBD RB JJ NN . NN ...  \n",
       "1331  NN '' NN NN RB CD JJS NN . VB JJ NN . NN NN . ...  \n",
       "489   NN . . NN JJ NN NN VBP NN JJ NN JJ NN RB DT NN...  \n",
       "1658  NN NN NN NN JJ JJ NN . JJ NN NN NN NN NN . VBP...  \n",
       "872   NN NNS VBP VBP CD JJ NN NN CD NN CD JJS RB JJ ...  "
      ]
     },
     "execution_count": 25,
     "metadata": {},
     "output_type": "execute_result"
    }
   ],
   "source": [
    "\n",
    "tagger = PerceptronTagger()\n",
    "def pos_tagging(text):\n",
    "    text = tokenize(text)\n",
    "    text = tagger.tag(text)\n",
    "    # print(type(text), text)\n",
    "    text = ' '.join([t[1] for t in text])\n",
    "    return text\n",
    "text_train['pos_tags'] = [pos_tagging(text) for text in text_train.text]\n",
    "text_train.head()"
   ]
  },
  {
   "cell_type": "markdown",
   "metadata": {
    "deletable": true,
    "editable": true
   },
   "source": [
    "что-то эта часть как-то совершенно неприлично долго работает, не понимаю, это я что-то делаю не так или в нлтк настолько медленный таггер."
   ]
  },
  {
   "cell_type": "code",
   "execution_count": 29,
   "metadata": {
    "collapsed": false
   },
   "outputs": [
    {
     "data": {
      "text/html": [
       "<div>\n",
       "<table border=\"1\" class=\"dataframe\">\n",
       "  <thead>\n",
       "    <tr style=\"text-align: right;\">\n",
       "      <th></th>\n",
       "      <th>text</th>\n",
       "      <th>bowed</th>\n",
       "      <th>pos_tags</th>\n",
       "      <th>pn</th>\n",
       "    </tr>\n",
       "  </thead>\n",
       "  <tbody>\n",
       "    <tr>\n",
       "      <th>486</th>\n",
       "      <td>begin ? okay ,     : starship trooper  one ...</td>\n",
       "      <td>(0, 9)\\t10\\n  (0, 218)\\t1\\n  (0, 810)\\t1\\n  ...</td>\n",
       "      <td>VB . UH , : NN IN CD JJS NN VBD RB JJ NN . NN ...</td>\n",
       "      <td>(0.5471698113207547, 0.24842767295597484, 0.20...</td>\n",
       "    </tr>\n",
       "    <tr>\n",
       "      <th>1331</th>\n",
       "      <td>'contact ' show  jodie foster  one   best actr...</td>\n",
       "      <td>(0, 9)\\t10\\n  (0, 218)\\t1\\n  (0, 810)\\t1\\n  ...</td>\n",
       "      <td>NN '' NN NN RB CD JJS NN . VB JJ NN . NN NN . ...</td>\n",
       "      <td>(0.6597014925373135, 0.2656716417910448, 0.074...</td>\n",
       "    </tr>\n",
       "    <tr>\n",
       "      <th>489</th>\n",
       "      <td>u .  . army utilize  number  book know  field...</td>\n",
       "      <td>(0, 9)\\t10\\n  (0, 218)\\t1\\n  (0, 810)\\t1\\n  ...</td>\n",
       "      <td>NN . . NN JJ NN NN VBP NN JJ NN JJ NN RB DT NN...</td>\n",
       "      <td>(0.6067415730337079, 0.2565543071161049, 0.136...</td>\n",
       "    </tr>\n",
       "    <tr>\n",
       "      <th>1658</th>\n",
       "      <td>find  courage  face life full-on   difficult t...</td>\n",
       "      <td>(0, 9)\\t10\\n  (0, 218)\\t1\\n  (0, 810)\\t1\\n  ...</td>\n",
       "      <td>NN NN NN NN JJ JJ NN . JJ NN NN NN NN NN . VBP...</td>\n",
       "      <td>(0.6119791666666666, 0.2526041666666667, 0.135...</td>\n",
       "    </tr>\n",
       "    <tr>\n",
       "      <th>872</th>\n",
       "      <td>fact  charles bronson represent one    importa...</td>\n",
       "      <td>(0, 9)\\t10\\n  (0, 218)\\t1\\n  (0, 810)\\t1\\n  ...</td>\n",
       "      <td>NN NNS VBP VBP CD JJ NN NN CD NN CD JJS RB JJ ...</td>\n",
       "      <td>(0.6374269005847953, 0.26608187134502925, 0.09...</td>\n",
       "    </tr>\n",
       "  </tbody>\n",
       "</table>\n",
       "</div>"
      ],
      "text/plain": [
       "                                                   text  \\\n",
       "486      begin ? okay ,     : starship trooper  one ...   \n",
       "1331  'contact ' show  jodie foster  one   best actr...   \n",
       "489    u .  . army utilize  number  book know  field...   \n",
       "1658  find  courage  face life full-on   difficult t...   \n",
       "872   fact  charles bronson represent one    importa...   \n",
       "\n",
       "                                                  bowed  \\\n",
       "486     (0, 9)\\t10\\n  (0, 218)\\t1\\n  (0, 810)\\t1\\n  ...   \n",
       "1331    (0, 9)\\t10\\n  (0, 218)\\t1\\n  (0, 810)\\t1\\n  ...   \n",
       "489     (0, 9)\\t10\\n  (0, 218)\\t1\\n  (0, 810)\\t1\\n  ...   \n",
       "1658    (0, 9)\\t10\\n  (0, 218)\\t1\\n  (0, 810)\\t1\\n  ...   \n",
       "872     (0, 9)\\t10\\n  (0, 218)\\t1\\n  (0, 810)\\t1\\n  ...   \n",
       "\n",
       "                                               pos_tags  \\\n",
       "486   VB . UH , : NN IN CD JJS NN VBD RB JJ NN . NN ...   \n",
       "1331  NN '' NN NN RB CD JJS NN . VB JJ NN . NN NN . ...   \n",
       "489   NN . . NN JJ NN NN VBP NN JJ NN JJ NN RB DT NN...   \n",
       "1658  NN NN NN NN JJ JJ NN . JJ NN NN NN NN NN . VBP...   \n",
       "872   NN NNS VBP VBP CD JJ NN NN CD NN CD JJS RB JJ ...   \n",
       "\n",
       "                                                     pn  \n",
       "486   (0.5471698113207547, 0.24842767295597484, 0.20...  \n",
       "1331  (0.6597014925373135, 0.2656716417910448, 0.074...  \n",
       "489   (0.6067415730337079, 0.2565543071161049, 0.136...  \n",
       "1658  (0.6119791666666666, 0.2526041666666667, 0.135...  \n",
       "872   (0.6374269005847953, 0.26608187134502925, 0.09...  "
      ]
     },
     "execution_count": 29,
     "metadata": {},
     "output_type": "execute_result"
    }
   ],
   "source": [
    "def get_posnumbers(text):\n",
    "    text = text.split(' ')\n",
    "    nn = 0\n",
    "    jj = 0\n",
    "    vb = 0\n",
    "    for t in text:\n",
    "        if t == 'NN' or t == 'NNS':\n",
    "            nn += 1\n",
    "        elif t == 'JJ' or t == 'JJS':\n",
    "            jj += 1\n",
    "        elif t == 'VBP' or t == 'VB':\n",
    "            vb += 1\n",
    "    summ = nn + jj + vb\n",
    "    nn = nn / summ\n",
    "    jj = jj / summ\n",
    "    vb = vb / summ\n",
    "    return nn, jj, vb\n",
    "\n",
    "text_train['pn'] = [get_posnumbers(i) for i in text_train.pos_tags]\n",
    "text_train.head()"
   ]
  },
  {
   "cell_type": "code",
   "execution_count": 46,
   "metadata": {
    "collapsed": false,
    "deletable": true,
    "editable": true
   },
   "outputs": [
    {
     "data": {
      "image/png": "[encoded data removed]",
      "text/plain": [
       "<matplotlib.figure.Figure at 0x102ff5b0>"
      ]
     },
     "metadata": {},
     "output_type": "display_data"
    },
    {
     "data": {
      "image/png": "[encoded data removed]",
      "text/plain": [
       "<matplotlib.figure.Figure at 0x10352bf0>"
      ]
     },
     "metadata": {},
     "output_type": "display_data"
    },
    {
     "data": {
      "image/png": "[encoded data removed]",
      "text/plain": [
       "<matplotlib.figure.Figure at 0x10365e90>"
      ]
     },
     "metadata": {},
     "output_type": "display_data"
    }
   ],
   "source": [
    "\n",
    "neg_tags = [text_train.pn[i] for i in text_train.index if answ_train[i] == 'neg']\n",
    "pos_tags = [text_train.pn[i] for i in text_train.index if answ_train[i] == 'pos']\n",
    "\n",
    "data_nouns = [[i[0] for i in neg_tags], [i[0] for i in pos_tags]]\n",
    "\n",
    "plt.boxplot(data_nouns)\n",
    "plt.xticks(np.arange(2) + 1, ('neg','pos'))\n",
    "plt.title('процент существительных')\n",
    "plt.grid()\n",
    "plt.yscale('linear', linscale = 10)\n",
    "plt.ylim((0.4,0.8))\n",
    "plt.show()\n",
    "\n",
    "data_adj = [[i[1] for i in neg_tags], [i[1] for i in pos_tags]]\n",
    "\n",
    "plt.boxplot(data_adj)\n",
    "plt.xticks(np.arange(2) + 1, ('neg','pos'))\n",
    "plt.title('процент прилагательных')\n",
    "plt.grid()\n",
    "plt.yscale('linear', linscale = 10)\n",
    "plt.ylim((0.1,0.4))\n",
    "plt.show()\n",
    "\n",
    "data_vb = [[i[2] for i in neg_tags], [i[2] for i in pos_tags]]\n",
    "\n",
    "plt.boxplot(data_vb)\n",
    "plt.xticks(np.arange(2) + 1, ('neg','pos'))\n",
    "plt.title('процент глаголов')\n",
    "plt.grid()\n",
    "plt.yscale('linear', linscale = 10)\n",
    "plt.ylim((0,0.4))\n",
    "plt.show()"
   ]
  },
  {
   "cell_type": "markdown",
   "metadata": {
    "collapsed": true,
    "deletable": true,
    "editable": true
   },
   "source": [
    "по-моему, всё везде одинаково... :( Обучим модель."
   ]
  },
  {
   "cell_type": "code",
   "execution_count": null,
   "metadata": {
    "collapsed": false
   },
   "outputs": [],
   "source": []
  },
  {
   "cell_type": "code",
   "execution_count": 69,
   "metadata": {
    "collapsed": false
   },
   "outputs": [
    {
     "name": "stdout",
     "output_type": "stream",
     "text": [
      "<class 'pandas.core.series.Series'>\n"
     ]
    },
    {
     "data": {
      "text/plain": [
       "array([[ -1.83905540e-02,  -4.94439983e-02,   7.07696392e-05, ...,\n",
       "         -9.74761052e-03,   0.00000000e+00,   0.00000000e+00]])"
      ]
     },
     "execution_count": 69,
     "metadata": {},
     "output_type": "execute_result"
    }
   ],
   "source": [
    "# print(text_train.bowed.head())\n",
    "# print(answ_train.head())\n",
    "print(type(text_train.bowed))\n",
    "clf = LogisticRegression(class_weight='balanced')\n",
    "clf.fit(bowed_text_train, np.array(answ_train))\n",
    "\n",
    "\n",
    "\n",
    "clf.coef_"
   ]
  },
  {
   "cell_type": "code",
   "execution_count": 70,
   "metadata": {
    "collapsed": false
   },
   "outputs": [
    {
     "data": {
      "text/plain": [
       "array([-0.44405533])"
      ]
     },
     "execution_count": 70,
     "metadata": {},
     "output_type": "execute_result"
    }
   ],
   "source": [
    "clf.intercept_"
   ]
  },
  {
   "cell_type": "code",
   "execution_count": null,
   "metadata": {
    "collapsed": false
   },
   "outputs": [],
   "source": []
  },
  {
   "cell_type": "code",
   "execution_count": 75,
   "metadata": {
    "collapsed": false
   },
   "outputs": [
    {
     "name": "stdout",
     "output_type": "stream",
     "text": [
      "             precision    recall  f1-score   support\n",
      "\n",
      "        neg       0.97      0.95      0.96       205\n",
      "        pos       0.95      0.96      0.96       195\n",
      "\n",
      "avg / total       0.96      0.96      0.96       400\n",
      "\n",
      "[[195  10]\n",
      " [  7 188]]\n"
     ]
    }
   ],
   "source": [
    "print(classification_report(answ_test, clf.predict(bowed_text_test)))\n",
    "print(confusion_matrix(answ_test, clf.predict(bowed_text_test)))"
   ]
  },
  {
   "cell_type": "markdown",
   "metadata": {},
   "source": [
    "Работает очень хорошо! Оба класса хорошо определяются, нет перевесов никуда, красота!"
   ]
  }
 ],
 "metadata": {
  "kernelspec": {
   "display_name": "Python 3",
   "language": "python",
   "name": "python3"
  },
  "language_info": {
   "codemirror_mode": {
    "name": "ipython",
    "version": 3
   },
   "file_extension": ".py",
   "mimetype": "text/x-python",
   "name": "python",
   "nbconvert_exporter": "python",
   "pygments_lexer": "ipython3",
   "version": "3.5.2"
  }
 },
 "nbformat": 4,
 "nbformat_minor": 2
}
