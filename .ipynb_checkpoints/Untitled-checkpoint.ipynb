{
 "cells": [
  {
   "cell_type": "code",
   "execution_count": 169,
   "metadata": {
    "collapsed": false
   },
   "outputs": [],
   "source": [
    "import pandas\n",
    "import numpy as np\n",
    "import matplotlib.pyplot as plt\n",
    "from nltk import word_tokenize\n",
    "from sklearn.feature_extraction.text import CountVectorizer, TfidfTransformer\n",
    "from sklearn.naive_bayes import MultinomialNB\n",
    "from sklearn.metrics import classification_report, f1_score, accuracy_score, confusion_matrix, roc_curve, auc\n",
    "from sklearn.pipeline import Pipeline\n",
    "from sklearn.model_selection import StratifiedKFold, cross_val_score, train_test_split, StratifiedShuffleSplit\n",
    "from sklearn.tree import DecisionTreeClassifier\n",
    "from sklearn.ensemble import RandomForestClassifier\n",
    "import random\n",
    "import pylab as pl\n",
    "from nltk.stem.wordnet import WordNetLemmatizer\n",
    "from nltk.stem import PorterStemmer\n",
    "import re"
   ]
  },
  {
   "cell_type": "code",
   "execution_count": 170,
   "metadata": {
    "collapsed": false
   },
   "outputs": [
    {
     "data": {
      "text/html": [
       "<div>\n",
       "<table border=\"1\" class=\"dataframe\">\n",
       "  <thead>\n",
       "    <tr style=\"text-align: right;\">\n",
       "      <th></th>\n",
       "      <th>label</th>\n",
       "      <th>message</th>\n",
       "    </tr>\n",
       "  </thead>\n",
       "  <tbody>\n",
       "    <tr>\n",
       "      <th>0</th>\n",
       "      <td>ham</td>\n",
       "      <td>Go until jurong point, crazy.. Available only ...</td>\n",
       "    </tr>\n",
       "    <tr>\n",
       "      <th>1</th>\n",
       "      <td>ham</td>\n",
       "      <td>Ok lar... Joking wif u oni...</td>\n",
       "    </tr>\n",
       "    <tr>\n",
       "      <th>2</th>\n",
       "      <td>spam</td>\n",
       "      <td>Free entry in 2 a wkly comp to win FA Cup fina...</td>\n",
       "    </tr>\n",
       "    <tr>\n",
       "      <th>3</th>\n",
       "      <td>ham</td>\n",
       "      <td>U dun say so early hor... U c already then say...</td>\n",
       "    </tr>\n",
       "    <tr>\n",
       "      <th>4</th>\n",
       "      <td>ham</td>\n",
       "      <td>Nah I don't think he goes to usf, he lives aro...</td>\n",
       "    </tr>\n",
       "  </tbody>\n",
       "</table>\n",
       "</div>"
      ],
      "text/plain": [
       "  label                                            message\n",
       "0   ham  Go until jurong point, crazy.. Available only ...\n",
       "1   ham                      Ok lar... Joking wif u oni...\n",
       "2  spam  Free entry in 2 a wkly comp to win FA Cup fina...\n",
       "3   ham  U dun say so early hor... U c already then say...\n",
       "4   ham  Nah I don't think he goes to usf, he lives aro..."
      ]
     },
     "execution_count": 170,
     "metadata": {},
     "output_type": "execute_result"
    }
   ],
   "source": [
    "path = 'smsspamcollection/SMSSpamCollection'\n",
    "\n",
    "messages = pandas.read_csv(path, sep='\\t',\n",
    "                           names=[\"label\", \"message\"])\n",
    "messages.head()"
   ]
  },
  {
   "cell_type": "markdown",
   "metadata": {},
   "source": [
    "Проверим, сбалансирован ли датасет."
   ]
  },
  {
   "cell_type": "code",
   "execution_count": 171,
   "metadata": {
    "collapsed": false
   },
   "outputs": [
    {
     "name": "stdout",
     "output_type": "stream",
     "text": [
      "4825 747\n"
     ]
    }
   ],
   "source": [
    "print(len(messages[messages.label=='ham']), len(messages[messages.label=='spam']))"
   ]
  },
  {
   "cell_type": "markdown",
   "metadata": {},
   "source": [
    "Нет.\n",
    "Посмотрим на результаты дамми классификатора."
   ]
  },
  {
   "cell_type": "code",
   "execution_count": 172,
   "metadata": {
    "collapsed": false
   },
   "outputs": [
    {
     "data": {
      "text/plain": [
       "'0.866'"
      ]
     },
     "execution_count": 172,
     "metadata": {},
     "output_type": "execute_result"
    }
   ],
   "source": [
    "dummyresults = ['ham' for i in range(len(messages))]\n",
    "'{0:.3f}'.format(accuracy_score(dummyresults, messages.label))"
   ]
  },
  {
   "cell_type": "markdown",
   "metadata": {},
   "source": [
    "Неплохая аккуратность, но для задачи определения спама не годится.\n",
    "Разделим выборку и обучим байесовскую модель."
   ]
  },
  {
   "cell_type": "markdown",
   "metadata": {},
   "source": []
  },
  {
   "cell_type": "code",
   "execution_count": 173,
   "metadata": {
    "collapsed": false
   },
   "outputs": [
    {
     "name": "stdout",
     "output_type": "stream",
     "text": [
      "1200 1200 4372 4372\n"
     ]
    }
   ],
   "source": [
    "ham = messages.message[messages.label == 'ham'].values.tolist()\n",
    "spam = messages.message[messages.label == 'spam'].values.tolist()\n",
    "ham_ti = random.sample(list(range(len(ham))), 600)\n",
    "spam_ti = random.sample(list(range(len(spam))), 600)\n",
    "ham_test = []\n",
    "ham_train = []\n",
    "for i in range(len(ham)):\n",
    "    if i in ham_ti:\n",
    "        ham_train.append(ham[i])\n",
    "    else:\n",
    "        ham_test.append(ham[i])\n",
    "spam_test = []\n",
    "spam_train = []\n",
    "for i in range(len(spam)):\n",
    "    if i in spam_ti:\n",
    "        spam_train.append(spam[i])\n",
    "    else:\n",
    "        spam_test.append(spam[i])\n",
    "train = ham_train + spam_train\n",
    "test = ham_test + spam_test\n",
    "train_answers = ['ham' for i in ham_train] + ['spam' for i in spam_train]\n",
    "test_answers = ['ham' for i in ham_test] + ['spam' for i in spam_test]\n",
    "print(len(train), len(train_answers), len(test), len(test_answers))"
   ]
  },
  {
   "cell_type": "markdown",
   "metadata": {},
   "source": [
    "прошу прощения, что я всё переконвертировала в листы, но я потратила 2 (!!!) часа на то чтобы сделать это нормально, перепробовала кучу всего, и ничего не получилось. "
   ]
  },
  {
   "cell_type": "markdown",
   "metadata": {},
   "source": [
    "# Векторизация документов"
   ]
  },
  {
   "cell_type": "code",
   "execution_count": 174,
   "metadata": {
    "collapsed": false
   },
   "outputs": [
    {
     "data": {
      "text/plain": [
       "MultinomialNB(alpha=1.0, class_prior=None, fit_prior=True)"
      ]
     },
     "execution_count": 174,
     "metadata": {},
     "output_type": "execute_result"
    }
   ],
   "source": [
    "bow = CountVectorizer()\n",
    "bow.fit_transform(messages['message'])\n",
    "bowed_train = bow.transform(train)\n",
    "bowed_test = bow.transform(test)\n",
    "# print(test[4], bowed_test[4])\n",
    "naive_model = MultinomialNB()\n",
    "naive_model.fit(bowed_train, np.array(train_answers))"
   ]
  },
  {
   "cell_type": "markdown",
   "metadata": {},
   "source": [
    "Вот тут, кстати, не очень понятный мне момент. Получается, что в матрице должны оказаться и слова из трайнинг, и слова из тестинг сет, чтобы она была одинковой размерности для них. Как это можно осуществлять, когда модель действительно должна работать на новых данных? Отбрасывать все совсем незнакомые слова? Перестраивать матрицу и переучиваться, встретив каждое новое слово?"
   ]
  },
  {
   "cell_type": "code",
   "execution_count": 175,
   "metadata": {
    "collapsed": false
   },
   "outputs": [
    {
     "name": "stdout",
     "output_type": "stream",
     "text": [
      "             precision    recall  f1-score   support\n",
      "\n",
      "        ham       1.00      0.97      0.98      4225\n",
      "       spam       0.53      0.97      0.68       147\n",
      "\n",
      "avg / total       0.98      0.97      0.97      4372\n",
      "\n",
      "[[4097  128]\n",
      " [   4  143]]\n"
     ]
    }
   ],
   "source": [
    "predicted = naive_model.predict(bowed_test)\n",
    "\n",
    "print(classification_report(test_answers, predicted))\n",
    "print(confusion_matrix(test_answers, predicted))"
   ]
  },
  {
   "cell_type": "markdown",
   "metadata": {},
   "source": [
    "Получилось даже как-то подорительно хорошо... \n",
    "Хотя на спапе точность 0.53, то есть половина того что опонается спамом - и не спам вовсе. То есть совсем не хорошо."
   ]
  },
  {
   "cell_type": "markdown",
   "metadata": {},
   "source": [
    "# Удалим знаки препинания. "
   ]
  },
  {
   "cell_type": "code",
   "execution_count": 176,
   "metadata": {
    "collapsed": true
   },
   "outputs": [],
   "source": [
    "test_clear = [re.sub('[\\.,!\\?:;\"\\']', '', sent) for sent in test]\n",
    "train_clear = [re.sub('[\\.,!\\?:;\"\\']', '', sent) for sent in train]"
   ]
  },
  {
   "cell_type": "code",
   "execution_count": 177,
   "metadata": {
    "collapsed": false
   },
   "outputs": [
    {
     "data": {
      "text/plain": [
       "MultinomialNB(alpha=1.0, class_prior=None, fit_prior=True)"
      ]
     },
     "execution_count": 177,
     "metadata": {},
     "output_type": "execute_result"
    }
   ],
   "source": [
    "bow = CountVectorizer()\n",
    "bow.fit_transform([re.sub('[\\.,!\\?:;\"\\']', '', sent) for sent in messages['message']])\n",
    "bowed_train_clear = bow.transform(train_clear)\n",
    "bowed_test_clear = bow.transform(test_clear)\n",
    "# print(test[4], bowed_test[4])\n",
    "naive_model_clear = MultinomialNB()\n",
    "naive_model_clear.fit(bowed_train_clear, np.array(train_answers))"
   ]
  },
  {
   "cell_type": "code",
   "execution_count": 178,
   "metadata": {
    "collapsed": false
   },
   "outputs": [
    {
     "name": "stdout",
     "output_type": "stream",
     "text": [
      "             precision    recall  f1-score   support\n",
      "\n",
      "        ham       1.00      0.97      0.98      4225\n",
      "       spam       0.51      0.97      0.67       147\n",
      "\n",
      "avg / total       0.98      0.97      0.97      4372\n",
      "\n",
      "[[4089  136]\n",
      " [   4  143]]\n"
     ]
    }
   ],
   "source": [
    "predicted_clear = naive_model_clear.predict(bowed_test_clear)\n",
    "\n",
    "print(classification_report(test_answers, predicted_clear))\n",
    "print(confusion_matrix(test_answers, predicted_clear))"
   ]
  },
  {
   "cell_type": "markdown",
   "metadata": {},
   "source": [
    "Все стало только хуже! Возможно, в спаме больше знаков препинания, чем обычно, мы их отбрасываем и всё портится."
   ]
  },
  {
   "cell_type": "markdown",
   "metadata": {},
   "source": [
    "# Попробуем всё лемматизировать перед векторизацией"
   ]
  },
  {
   "cell_type": "code",
   "execution_count": 179,
   "metadata": {
    "collapsed": false
   },
   "outputs": [],
   "source": [
    "def tokenize(text):\n",
    "    text = text.lower()\n",
    "    return word_tokenize(text)\n",
    "\n",
    "lmtzr = WordNetLemmatizer()\n",
    "\n",
    "def lemmatize(word):\n",
    "    noun = lmtzr.lemmatize(word)\n",
    "    verb = lmtzr.lemmatize(word, 'v')\n",
    "    if verb != word:\n",
    "        return verb\n",
    "    return noun\n",
    "\n",
    "def lematize(text):\n",
    "    text = tokenize(text)\n",
    "    text = ' '.join([lemmatize(word) for word in text])\n",
    "    return text\n",
    "\n",
    "train_lem = [lematize(sent) for sent in train]\n",
    "test_lem = [lematize(sent) for sent in test]"
   ]
  },
  {
   "cell_type": "code",
   "execution_count": 180,
   "metadata": {
    "collapsed": false
   },
   "outputs": [
    {
     "name": "stdout",
     "output_type": "stream",
     "text": [
      "             precision    recall  f1-score   support\n",
      "\n",
      "        ham       1.00      0.97      0.98      4225\n",
      "       spam       0.50      0.96      0.66       147\n",
      "\n",
      "avg / total       0.98      0.97      0.97      4372\n",
      "\n",
      "[[4086  139]\n",
      " [   6  141]]\n"
     ]
    }
   ],
   "source": [
    "bow = CountVectorizer()\n",
    "bow.fit_transform([lematize(sent) for sent in messages['message']])\n",
    "bowed_train_lem = bow.transform(train_lem)\n",
    "bowed_test_lem = bow.transform(test_lem)\n",
    "naive_model_lem = MultinomialNB()\n",
    "naive_model_lem.fit(bowed_train_lem, np.array(train_answers))\n",
    "predicted_lem = naive_model_lem.predict(bowed_test_lem)\n",
    "\n",
    "print(classification_report(test_answers, predicted_lem))\n",
    "print(confusion_matrix(test_answers, predicted_lem))"
   ]
  },
  {
   "cell_type": "markdown",
   "metadata": {},
   "source": [
    "никакого эффекта :("
   ]
  },
  {
   "cell_type": "markdown",
   "metadata": {},
   "source": [
    "# А если всё застемить?"
   ]
  },
  {
   "cell_type": "code",
   "execution_count": 181,
   "metadata": {
    "collapsed": false
   },
   "outputs": [],
   "source": [
    "port = PorterStemmer()\n",
    "def stemize(text):\n",
    "    text = tokenize(text)\n",
    "    text = ' '.join([port.stem(word) for word in text])\n",
    "    return text\n",
    "\n",
    "train_stem = [stemize(sent) for sent in train]\n",
    "test_stem = [stemize(sent) for sent in test]"
   ]
  },
  {
   "cell_type": "code",
   "execution_count": 182,
   "metadata": {
    "collapsed": false
   },
   "outputs": [
    {
     "name": "stdout",
     "output_type": "stream",
     "text": [
      "             precision    recall  f1-score   support\n",
      "\n",
      "        ham       1.00      0.97      0.98      4225\n",
      "       spam       0.50      0.97      0.66       147\n",
      "\n",
      "avg / total       0.98      0.97      0.97      4372\n",
      "\n",
      "[[4083  142]\n",
      " [   5  142]]\n"
     ]
    }
   ],
   "source": [
    "bow = CountVectorizer()\n",
    "bow.fit_transform([stemize(sent) for sent in messages['message']])\n",
    "bowed_train_stem = bow.transform(train_stem)\n",
    "bowed_test_stem = bow.transform(test_stem)\n",
    "naive_model_stem = MultinomialNB()\n",
    "naive_model_stem.fit(bowed_train_stem, np.array(train_answers))\n",
    "predicted_stem = naive_model_stem.predict(bowed_test_stem)\n",
    "\n",
    "print(classification_report(test_answers, predicted_stem))\n",
    "print(confusion_matrix(test_answers, predicted_stem))"
   ]
  },
  {
   "cell_type": "markdown",
   "metadata": {},
   "source": [
    "работает пренебрежимо мало лучше. А на что мы надеялись? В богатом флективном английском и так все слова одинаковые, даже если их не лемматизировать."
   ]
  },
  {
   "cell_type": "markdown",
   "metadata": {},
   "source": [
    "# Дерево и лес"
   ]
  },
  {
   "cell_type": "markdown",
   "metadata": {},
   "source": [
    "Сделаем дерево и лес"
   ]
  },
  {
   "cell_type": "code",
   "execution_count": 183,
   "metadata": {
    "collapsed": false
   },
   "outputs": [
    {
     "name": "stdout",
     "output_type": "stream",
     "text": [
      "             precision    recall  f1-score   support\n",
      "\n",
      "        ham       1.00      0.93      0.96      4225\n",
      "       spam       0.33      0.95      0.49       147\n",
      "\n",
      "avg / total       0.98      0.93      0.95      4372\n",
      "\n"
     ]
    }
   ],
   "source": [
    "tree = DecisionTreeClassifier(min_samples_split=5)\n",
    "tree.fit(bowed_train, np.array(train_answers))\n",
    "predicted_tree = tree.predict(bowed_test)\n",
    "\n",
    "print(classification_report(test_answers, predicted_tree))"
   ]
  },
  {
   "cell_type": "markdown",
   "metadata": {},
   "source": [
    "Дерево работает еще хуже! Оно еще больше сообщений безвинно засовывает в спам!"
   ]
  },
  {
   "cell_type": "code",
   "execution_count": 184,
   "metadata": {
    "collapsed": false
   },
   "outputs": [
    {
     "name": "stdout",
     "output_type": "stream",
     "text": [
      "             precision    recall  f1-score   support\n",
      "\n",
      "        ham       1.00      0.98      0.99      4225\n",
      "       spam       0.67      0.93      0.77       147\n",
      "\n",
      "avg / total       0.99      0.98      0.98      4372\n",
      "\n"
     ]
    }
   ],
   "source": [
    "forest = RandomForestClassifier(min_samples_split=5)\n",
    "forest.fit(bowed_train, np.array(train_answers))\n",
    "predicted_forest = forest.predict(bowed_test)\n",
    "\n",
    "print(classification_report(test_answers, predicted_forest))"
   ]
  },
  {
   "cell_type": "markdown",
   "metadata": {},
   "source": [
    "А вот лес уже больше радует. Но для задачи определения спама хотелось бы видеть бОльшую точность, полнота здесь не так важна. Не так страшно прислать пользователю спам, как удалить нормальное сообщение. А во всех трех моделях точность страдает...\n",
    "\n",
    "посмотрим рок-кривые"
   ]
  },
  {
   "cell_type": "code",
   "execution_count": 187,
   "metadata": {
    "collapsed": true
   },
   "outputs": [],
   "source": [
    "def to10(test_answers):\n",
    "    test_answers10 = []\n",
    "    for i in test_answers:\n",
    "        if i == 'spam':\n",
    "            test_answers10.append(0)\n",
    "        else:\n",
    "            test_answers10.append(1)\n",
    "    return test_answers10\n",
    "test_answers10 = to10(test_answers)\n",
    "predicted10 = to10(predicted)\n",
    "predicted_tree10 = to10(predicted_tree)\n",
    "predicted_forest10 = to10(predicted_forest)\n",
    "predicted_lem10 = to10(predicted_lem)\n",
    "predicted_stem10 = to10(predicted_stem)\n",
    "predicted_clear10 = to10(predicted_clear)"
   ]
  },
  {
   "cell_type": "code",
   "execution_count": 188,
   "metadata": {
    "collapsed": false
   },
   "outputs": [
    {
     "data": {
      "text/plain": [
       "<matplotlib.figure.Figure at 0xb990b90>"
      ]
     },
     "metadata": {},
     "output_type": "display_data"
    },
    {
     "data": {
      "image/png": "[encoded data removed]",
      "text/plain": [
       "<matplotlib.figure.Figure at 0xb990d10>"
      ]
     },
     "metadata": {},
     "output_type": "display_data"
    }
   ],
   "source": [
    "pl.clf()\n",
    "plt.figure(figsize=(8,6))\n",
    "\n",
    "\n",
    "fpr, tpr, thresholds = roc_curve(test_answers10, predicted10)\n",
    "roc_auc  = auc(fpr, tpr)\n",
    "pl.plot(fpr, tpr, label='%s ROC (area = %0.2f)' % ('bayes', roc_auc))\n",
    "\n",
    "fpr, tpr, thresholds = roc_curve(test_answers10, predicted_clear10)\n",
    "roc_auc  = auc(fpr, tpr)\n",
    "pl.plot(fpr, tpr, label='%s ROC (area = %0.2f)' % ('bayes без зп', roc_auc))\n",
    "\n",
    "fpr, tpr, thresholds = roc_curve(test_answers10, predicted_lem10)\n",
    "roc_auc  = auc(fpr, tpr)\n",
    "pl.plot(fpr, tpr, label='%s ROC (area = %0.2f)' % ('bayes lemmatized', roc_auc))\n",
    "\n",
    "fpr, tpr, thresholds = roc_curve(test_answers10, predicted_stem10)\n",
    "roc_auc  = auc(fpr, tpr)\n",
    "pl.plot(fpr, tpr, label='%s ROC (area = %0.2f)' % ('bayes stematized', roc_auc))\n",
    "\n",
    "fpr, tpr, thresholds = roc_curve(test_answers10, predicted_tree10)\n",
    "roc_auc  = auc(fpr, tpr)\n",
    "pl.plot(fpr, tpr, label='%s ROC (area = %0.2f)' % ('tree', roc_auc))\n",
    "\n",
    "\n",
    "fpr, tpr, thresholds = roc_curve(test_answers10, predicted_forest10)\n",
    "roc_auc  = auc(fpr, tpr)\n",
    "pl.plot(fpr, tpr, label='%s ROC (area = %0.2f)' % ('forest', roc_auc))\n",
    "\n",
    "\n",
    "pl.plot([0, 1], [0, 1], 'k--')\n",
    "pl.xlim([0.0, 1.0])\n",
    "pl.ylim([0.0, 1.0])\n",
    "pl.xlabel('False Positive Rate')\n",
    "pl.ylabel('True Positive Rate')\n",
    "pl.legend(loc=0, fontsize='small')\n",
    "pl.show()"
   ]
  },
  {
   "cell_type": "markdown",
   "metadata": {},
   "source": [
    "Честно говоря, не знаю, что тут сказать... Всё плохо, но лес чуть лучше, а дерево - чуть хуже."
   ]
  },
  {
   "cell_type": "code",
   "execution_count": null,
   "metadata": {
    "collapsed": true
   },
   "outputs": [],
   "source": []
  }
 ],
 "metadata": {
  "kernelspec": {
   "display_name": "Python 3",
   "language": "python",
   "name": "python3"
  },
  "language_info": {
   "codemirror_mode": {
    "name": "ipython",
    "version": 3
   },
   "file_extension": ".py",
   "mimetype": "text/x-python",
   "name": "python",
   "nbconvert_exporter": "python",
   "pygments_lexer": "ipython3",
   "version": "3.5.2"
  }
 },
 "nbformat": 4,
 "nbformat_minor": 2
}
