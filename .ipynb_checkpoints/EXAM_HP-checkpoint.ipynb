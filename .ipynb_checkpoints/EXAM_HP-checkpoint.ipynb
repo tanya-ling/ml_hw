{
 "cells": [
  {
   "cell_type": "markdown",
   "metadata": {},
   "source": [
    "# Harry Potter Houses"
   ]
  },
  {
   "cell_type": "code",
   "execution_count": 93,
   "metadata": {
    "collapsed": true
   },
   "outputs": [],
   "source": [
    "import pandas\n",
    "import numpy as np\n",
    "from nltk import word_tokenize\n",
    "from nltk.corpus import stopwords\n",
    "from sklearn.feature_extraction.text import CountVectorizer, TfidfTransformer\n",
    "from sklearn.naive_bayes import MultinomialNB\n",
    "from sklearn.metrics import classification_report, f1_score, accuracy_score, confusion_matrix, roc_curve, auc\n",
    "from sklearn.pipeline import Pipeline\n",
    "from sklearn.model_selection import StratifiedKFold, cross_val_score, train_test_split, StratifiedShuffleSplit\n",
    "from sklearn.tree import DecisionTreeClassifier\n",
    "from sklearn.ensemble import RandomForestClassifier\n",
    "import random\n",
    "import pylab as pl\n",
    "from imblearn.over_sampling import RandomOverSampler\n",
    "from nltk import word_tokenize, pos_tag\n",
    "from nltk.stem.wordnet import WordNetLemmatizer"
   ]
  },
  {
   "cell_type": "code",
   "execution_count": 82,
   "metadata": {
    "collapsed": false
   },
   "outputs": [
    {
     "data": {
      "text/html": [
       "<div>\n",
       "<table border=\"1\" class=\"dataframe\">\n",
       "  <thead>\n",
       "    <tr style=\"text-align: right;\">\n",
       "      <th></th>\n",
       "      <th>name</th>\n",
       "      <th>house</th>\n",
       "      <th>text</th>\n",
       "    </tr>\n",
       "  </thead>\n",
       "  <tbody>\n",
       "    <tr>\n",
       "      <th>0</th>\n",
       "      <td>Harry Potter</td>\n",
       "      <td>Gryffindor</td>\n",
       "      <td>Harry was an extremely brave, loyal, and selfl...</td>\n",
       "    </tr>\n",
       "    <tr>\n",
       "      <th>1</th>\n",
       "      <td>Dolores Umbridge</td>\n",
       "      <td>Slytherin</td>\n",
       "      <td>Dolores Umbridge was nothing short of a sociop...</td>\n",
       "    </tr>\n",
       "    <tr>\n",
       "      <th>2</th>\n",
       "      <td>Horace Slughorn</td>\n",
       "      <td>Slytherin</td>\n",
       "      <td>Horace Slughorn was described as having a bumb...</td>\n",
       "    </tr>\n",
       "    <tr>\n",
       "      <th>3</th>\n",
       "      <td>Albus Dumbledore</td>\n",
       "      <td>Gryffindor</td>\n",
       "      <td>Considered to be the most powerful wizard of h...</td>\n",
       "    </tr>\n",
       "    <tr>\n",
       "      <th>4</th>\n",
       "      <td>Severus Snape</td>\n",
       "      <td>Slytherin</td>\n",
       "      <td>At times, Snape could appear cold, cynical, ma...</td>\n",
       "    </tr>\n",
       "  </tbody>\n",
       "</table>\n",
       "</div>"
      ],
      "text/plain": [
       "               name       house  \\\n",
       "0      Harry Potter  Gryffindor   \n",
       "1  Dolores Umbridge   Slytherin   \n",
       "2   Horace Slughorn   Slytherin   \n",
       "3  Albus Dumbledore  Gryffindor   \n",
       "4     Severus Snape   Slytherin   \n",
       "\n",
       "                                                text  \n",
       "0  Harry was an extremely brave, loyal, and selfl...  \n",
       "1  Dolores Umbridge was nothing short of a sociop...  \n",
       "2  Horace Slughorn was described as having a bumb...  \n",
       "3  Considered to be the most powerful wizard of h...  \n",
       "4  At times, Snape could appear cold, cynical, ma...  "
      ]
     },
     "execution_count": 82,
     "metadata": {},
     "output_type": "execute_result"
    }
   ],
   "source": [
    "path = 'hp-with-text.csv'\n",
    "\n",
    "hp_data = pandas.read_csv(path, sep='\\t',\n",
    "                           names=['name', \"house\", \"text\"], header=1)\n",
    "hp_data.head()"
   ]
  },
  {
   "cell_type": "code",
   "execution_count": 83,
   "metadata": {
    "collapsed": false
   },
   "outputs": [
    {
     "name": "stdout",
     "output_type": "stream",
     "text": [
      "42 26 15 11\n"
     ]
    }
   ],
   "source": [
    "print(len(hp_data[hp_data.house=='Gryffindor']), len(hp_data[hp_data.house=='Slytherin']), len(hp_data[hp_data.house=='Ravenclaw']), len(hp_data[hp_data.house=='Hufflepuff']))"
   ]
  },
  {
   "cell_type": "code",
   "execution_count": 84,
   "metadata": {
    "collapsed": false
   },
   "outputs": [
    {
     "data": {
      "text/plain": [
       "'0.447'"
      ]
     },
     "execution_count": 84,
     "metadata": {},
     "output_type": "execute_result"
    }
   ],
   "source": [
    "dummyresults = ['Gryffindor' for i in range(len(hp_data))]\n",
    "'{0:.3f}'.format(accuracy_score(dummyresults, hp_data.house))"
   ]
  },
  {
   "cell_type": "code",
   "execution_count": 85,
   "metadata": {
    "collapsed": false
   },
   "outputs": [],
   "source": [
    "train, test, train_answers, test_answers = train_test_split(hp_data.text, hp_data.house, test_size=0.2)"
   ]
  },
  {
   "cell_type": "code",
   "execution_count": 166,
   "metadata": {
    "collapsed": false
   },
   "outputs": [],
   "source": [
    "bow = CountVectorizer(stop_words='english', min_df=10, max_df=35)"
   ]
  },
  {
   "cell_type": "code",
   "execution_count": 167,
   "metadata": {
    "collapsed": false
   },
   "outputs": [],
   "source": [
    "bowed_train = bow.fit_transform(train)\n",
    "bowed_test = bow.transform(test)"
   ]
  },
  {
   "cell_type": "code",
   "execution_count": 168,
   "metadata": {
    "collapsed": false,
    "deletable": true,
    "editable": true
   },
   "outputs": [],
   "source": [
    "ros = RandomOverSampler()\n",
    "X_resampled, y_resampled = ros.fit_sample(bowed_train.toarray(), train_answers)"
   ]
  },
  {
   "cell_type": "code",
   "execution_count": 169,
   "metadata": {
    "collapsed": false
   },
   "outputs": [
    {
     "data": {
      "text/plain": [
       "MultinomialNB(alpha=1.0, class_prior=None, fit_prior=True)"
      ]
     },
     "execution_count": 169,
     "metadata": {},
     "output_type": "execute_result"
    }
   ],
   "source": [
    "naive_model = MultinomialNB()\n",
    "naive_model.fit(X_resampled, np.array(y_resampled))"
   ]
  },
  {
   "cell_type": "code",
   "execution_count": 170,
   "metadata": {
    "collapsed": false
   },
   "outputs": [
    {
     "name": "stdout",
     "output_type": "stream",
     "text": [
      "19 19\n",
      "             precision    recall  f1-score   support\n",
      "\n",
      " Gryffindor       0.71      0.56      0.63         9\n",
      " Hufflepuff       0.00      0.00      0.00         2\n",
      "  Ravenclaw       0.40      0.67      0.50         3\n",
      "  Slytherin       0.67      0.80      0.73         5\n",
      "\n",
      "avg / total       0.58      0.58      0.57        19\n",
      "\n",
      "[[5 1 2 1]\n",
      " [0 0 1 1]\n",
      " [1 0 2 0]\n",
      " [1 0 0 4]]\n"
     ]
    }
   ],
   "source": [
    "predicted = naive_model.predict(bowed_test)\n",
    "print(len(test_answers), len(predicted))\n",
    "print(classification_report(test_answers, predicted))\n",
    "print(confusion_matrix(test_answers, predicted))"
   ]
  },
  {
   "cell_type": "markdown",
   "metadata": {},
   "source": [
    "# Try again"
   ]
  },
  {
   "cell_type": "code",
   "execution_count": null,
   "metadata": {
    "collapsed": true
   },
   "outputs": [],
   "source": [
    "Key_words = {'Gryffindor': 'gryffindor brave honest ',\n",
    "            'Slytherin': 'slytherin dark leader proud ambitious pure-blood lord Voldemort death eater'.split(' ')}"
   ]
  },
  {
   "cell_type": "code",
   "execution_count": 181,
   "metadata": {
    "collapsed": false,
    "deletable": true,
    "editable": true
   },
   "outputs": [],
   "source": [
    "bow = CountVectorizer(stop_words='english', min_df=10, max_df=42)"
   ]
  },
  {
   "cell_type": "code",
   "execution_count": 182,
   "metadata": {
    "collapsed": false,
    "deletable": true,
    "editable": true
   },
   "outputs": [],
   "source": [
    "bowed_train = bow.fit_transform(train)\n",
    "bowed_test = bow.transform(test)"
   ]
  },
  {
   "cell_type": "code",
   "execution_count": 183,
   "metadata": {
    "collapsed": false,
    "deletable": true,
    "editable": true
   },
   "outputs": [],
   "source": [
    "ros = RandomOverSampler()\n",
    "X_resampled, y_resampled = ros.fit_sample(bowed_train.toarray(), train_answers)"
   ]
  },
  {
   "cell_type": "code",
   "execution_count": 184,
   "metadata": {
    "collapsed": false,
    "deletable": true,
    "editable": true
   },
   "outputs": [
    {
     "data": {
      "text/plain": [
       "MultinomialNB(alpha=1.0, class_prior=None, fit_prior=True)"
      ]
     },
     "execution_count": 184,
     "metadata": {},
     "output_type": "execute_result"
    }
   ],
   "source": [
    "naive_model = MultinomialNB()\n",
    "naive_model.fit(X_resampled, np.array(y_resampled))"
   ]
  },
  {
   "cell_type": "code",
   "execution_count": 185,
   "metadata": {
    "collapsed": false,
    "deletable": true,
    "editable": true
   },
   "outputs": [
    {
     "name": "stdout",
     "output_type": "stream",
     "text": [
      "19 19\n",
      "             precision    recall  f1-score   support\n",
      "\n",
      " Gryffindor       0.67      0.44      0.53         9\n",
      " Hufflepuff       0.00      0.00      0.00         2\n",
      "  Ravenclaw       0.40      0.67      0.50         3\n",
      "  Slytherin       0.57      0.80      0.67         5\n",
      "\n",
      "avg / total       0.53      0.53      0.51        19\n",
      "\n",
      "[[4 1 2 2]\n",
      " [0 0 1 1]\n",
      " [1 0 2 0]\n",
      " [1 0 0 4]]\n"
     ]
    }
   ],
   "source": [
    "predicted = naive_model.predict(bowed_test)\n",
    "print(len(test_answers), len(predicted))\n",
    "print(classification_report(test_answers, predicted))\n",
    "print(confusion_matrix(test_answers, predicted))"
   ]
  },
  {
   "cell_type": "code",
   "execution_count": null,
   "metadata": {
    "collapsed": true
   },
   "outputs": [],
   "source": []
  },
  {
   "cell_type": "code",
   "execution_count": null,
   "metadata": {
    "collapsed": true
   },
   "outputs": [],
   "source": []
  },
  {
   "cell_type": "code",
   "execution_count": null,
   "metadata": {
    "collapsed": true
   },
   "outputs": [],
   "source": []
  }
 ],
 "metadata": {
  "kernelspec": {
   "display_name": "Python 3",
   "language": "python",
   "name": "python3"
  },
  "language_info": {
   "codemirror_mode": {
    "name": "ipython",
    "version": 3
   },
   "file_extension": ".py",
   "mimetype": "text/x-python",
   "name": "python",
   "nbconvert_exporter": "python",
   "pygments_lexer": "ipython3",
   "version": "3.5.2"
  }
 },
 "nbformat": 4,
 "nbformat_minor": 2
}
