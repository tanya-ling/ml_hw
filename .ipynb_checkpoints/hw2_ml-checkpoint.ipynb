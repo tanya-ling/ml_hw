{
 "cells": [
  {
   "cell_type": "code",
   "execution_count": 50,
   "metadata": {
    "collapsed": false,
    "deletable": true,
    "editable": true
   },
   "outputs": [],
   "source": [
    "import pandas\n",
    "import numpy as np\n",
    "import matplotlib.pyplot as plt\n",
    "from nltk import word_tokenize\n",
    "from sklearn.feature_extraction.text import CountVectorizer, TfidfTransformer\n",
    "from sklearn.naive_bayes import MultinomialNB\n",
    "from sklearn.metrics import classification_report, f1_score, accuracy_score, confusion_matrix, roc_curve, auc\n",
    "from sklearn.pipeline import Pipeline\n",
    "from sklearn.model_selection import StratifiedKFold, cross_val_score, train_test_split, StratifiedShuffleSplit\n",
    "from sklearn.tree import DecisionTreeClassifier\n",
    "from sklearn.ensemble import RandomForestClassifier\n",
    "import random\n",
    "from nltk.stem import PorterStemmer\n",
    "from nltk import word_tokenize, pos_tag\n",
    "from nltk.stem.wordnet import WordNetLemmatizer\n",
    "import re\n",
    "import pylab as pl"
   ]
  },
  {
   "cell_type": "code",
   "execution_count": 20,
   "metadata": {
    "collapsed": false,
    "deletable": true,
    "editable": true
   },
   "outputs": [
    {
     "data": {
      "text/html": [
       "<div>\n",
       "<table border=\"1\" class=\"dataframe\">\n",
       "  <thead>\n",
       "    <tr style=\"text-align: right;\">\n",
       "      <th></th>\n",
       "      <th>label</th>\n",
       "      <th>message</th>\n",
       "    </tr>\n",
       "  </thead>\n",
       "  <tbody>\n",
       "    <tr>\n",
       "      <th>0</th>\n",
       "      <td>ham</td>\n",
       "      <td>Go until jurong point, crazy.. Available only ...</td>\n",
       "    </tr>\n",
       "    <tr>\n",
       "      <th>1</th>\n",
       "      <td>ham</td>\n",
       "      <td>Ok lar... Joking wif u oni...</td>\n",
       "    </tr>\n",
       "    <tr>\n",
       "      <th>2</th>\n",
       "      <td>spam</td>\n",
       "      <td>Free entry in 2 a wkly comp to win FA Cup fina...</td>\n",
       "    </tr>\n",
       "    <tr>\n",
       "      <th>3</th>\n",
       "      <td>ham</td>\n",
       "      <td>U dun say so early hor... U c already then say...</td>\n",
       "    </tr>\n",
       "    <tr>\n",
       "      <th>4</th>\n",
       "      <td>ham</td>\n",
       "      <td>Nah I don't think he goes to usf, he lives aro...</td>\n",
       "    </tr>\n",
       "  </tbody>\n",
       "</table>\n",
       "</div>"
      ],
      "text/plain": [
       "  label                                            message\n",
       "0   ham  Go until jurong point, crazy.. Available only ...\n",
       "1   ham                      Ok lar... Joking wif u oni...\n",
       "2  spam  Free entry in 2 a wkly comp to win FA Cup fina...\n",
       "3   ham  U dun say so early hor... U c already then say...\n",
       "4   ham  Nah I don't think he goes to usf, he lives aro..."
      ]
     },
     "execution_count": 20,
     "metadata": {},
     "output_type": "execute_result"
    }
   ],
   "source": [
    "path = 'smsspamcollection/SMSSpamCollection'\n",
    "\n",
    "messages = pandas.read_csv(path, sep='\\t',\n",
    "                           names=[\"label\", \"message\"])\n",
    "messages.head()"
   ]
  },
  {
   "cell_type": "markdown",
   "metadata": {
    "deletable": true,
    "editable": true
   },
   "source": [
    "Проверим, сбалансирован ли датасет."
   ]
  },
  {
   "cell_type": "code",
   "execution_count": 21,
   "metadata": {
    "collapsed": false,
    "deletable": true,
    "editable": true
   },
   "outputs": [
    {
     "name": "stdout",
     "output_type": "stream",
     "text": [
      "4825 747\n"
     ]
    }
   ],
   "source": [
    "print(len(messages[messages.label=='ham']), len(messages[messages.label=='spam']))"
   ]
  },
  {
   "cell_type": "markdown",
   "metadata": {
    "deletable": true,
    "editable": true
   },
   "source": [
    "Нет.\n",
    "Посмотрим на результаты дамми классификатора."
   ]
  },
  {
   "cell_type": "code",
   "execution_count": 22,
   "metadata": {
    "collapsed": false,
    "deletable": true,
    "editable": true
   },
   "outputs": [
    {
     "data": {
      "text/plain": [
       "'0.866'"
      ]
     },
     "execution_count": 22,
     "metadata": {},
     "output_type": "execute_result"
    }
   ],
   "source": [
    "dummyresults = ['ham' for i in range(len(messages))]\n",
    "'{0:.3f}'.format(accuracy_score(dummyresults, messages.label))"
   ]
  },
  {
   "cell_type": "markdown",
   "metadata": {
    "deletable": true,
    "editable": true
   },
   "source": [
    "Неплохая аккуратность, но для задачи определения спама не годится.\n",
    "Разделим выборку и обучим байесовскую модель."
   ]
  },
  {
   "cell_type": "markdown",
   "metadata": {
    "deletable": true,
    "editable": true
   },
   "source": []
  },
  {
   "cell_type": "code",
   "execution_count": 23,
   "metadata": {
    "collapsed": false,
    "deletable": true,
    "editable": true
   },
   "outputs": [],
   "source": [
    "# ham = messages.message[messages.label == 'ham'].values.tolist()\n",
    "# spam = messages.message[messages.label == 'spam'].values.tolist()\n",
    "# ham_ti = random.sample(list(range(len(ham))), 600)\n",
    "# spam_ti = random.sample(list(range(len(spam))), 600)\n",
    "# ham_test = []\n",
    "# ham_train = []\n",
    "# for i in range(len(ham)):\n",
    "#     if i in ham_ti:\n",
    "#         ham_train.append(ham[i])\n",
    "#     else:\n",
    "#         ham_test.append(ham[i])\n",
    "# spam_test = []\n",
    "# spam_train = []\n",
    "# for i in range(len(spam)):\n",
    "#     if i in spam_ti:\n",
    "#         spam_train.append(spam[i])\n",
    "#     else:\n",
    "#         spam_test.append(spam[i])\n",
    "# train = ham_train + spam_train\n",
    "# test = ham_test + spam_test\n",
    "# train_answers = ['ham' for i in ham_train] + ['spam' for i in spam_train]\n",
    "# test_answers = ['ham' for i in ham_test] + ['spam' for i in spam_test]\n",
    "# print(len(train), len(train_answers), len(test), len(test_answers))"
   ]
  },
  {
   "cell_type": "markdown",
   "metadata": {
    "deletable": true,
    "editable": true
   },
   "source": [
    "прошу прощения, что я всё переконвертировала в листы, но я потратила 2 (!!!) часа на то чтобы сделать это нормально, перепробовала кучу всего, и ничего не получилось. "
   ]
  },
  {
   "cell_type": "markdown",
   "metadata": {
    "deletable": true,
    "editable": true
   },
   "source": [
    "ИСПРАВЛЕНИЕ НИЖЕ"
   ]
  },
  {
   "cell_type": "code",
   "execution_count": 24,
   "metadata": {
    "collapsed": false,
    "deletable": true,
    "editable": true
   },
   "outputs": [
    {
     "name": "stdout",
     "output_type": "stream",
     "text": [
      "<class 'pandas.core.series.Series'>\n",
      "5507               I want to be inside you every night...\n",
      "3177    Havent still waitin as usual... Ü come back sc...\n",
      "154     As per your request 'Melle Melle (Oru Minnamin...\n",
      "2813    Say this slowly.? GOD,I LOVE YOU &amp; I NEED ...\n",
      "1228           So ü'll be submitting da project tmr rite?\n",
      "Name: message, dtype: object\n"
     ]
    }
   ],
   "source": [
    "ham = messages.message[messages.label == 'ham']\n",
    "spam = messages.message[messages.label == 'spam']\n",
    "hams = ham.sample(n=600)\n",
    "spams = spam.sample(n=600)\n",
    "ham_test = [i for i in ham if i not in hams]\n",
    "spam_test = [i for i in spam if i not in spams]\n",
    "print(type(hams))\n",
    "train = pandas.concat([hams, spams])\n",
    "test = ham_test + spam_test\n",
    "train_answers = ['ham' for i in hams] + ['spam' for i in spams]\n",
    "test_answers = ['ham' for i in ham_test] + ['spam' for i in spam_test]\n",
    "print(train.head())"
   ]
  },
  {
   "cell_type": "markdown",
   "metadata": {
    "deletable": true,
    "editable": true
   },
   "source": [
    "# Векторизация документов"
   ]
  },
  {
   "cell_type": "code",
   "execution_count": 25,
   "metadata": {
    "collapsed": false,
    "deletable": true,
    "editable": true
   },
   "outputs": [],
   "source": [
    "# bow = CountVectorizer()\n",
    "# bow.fit_transform(messages['message'])\n",
    "# bowed_train = bow.transform(train)\n",
    "# bowed_test = bow.transform(test)\n",
    "# # print(test[4], bowed_test[4])\n",
    "# print(type(bowed_train))\n",
    "# naive_model = MultinomialNB()\n",
    "# naive_model.fit(bowed_train, np.array(train_answers))"
   ]
  },
  {
   "cell_type": "markdown",
   "metadata": {
    "deletable": true,
    "editable": true
   },
   "source": [
    "Вот тут, кстати, не очень понятный мне момент. Получается, что в матрице должны оказаться и слова из трайнинг, и слова из тестинг сет, чтобы она была одинковой размерности для них. Как это можно осуществлять, когда модель действительно должна работать на новых данных? Отбрасывать все совсем незнакомые слова? Перестраивать матрицу и переучиваться, встретив каждое новое слово?"
   ]
  },
  {
   "cell_type": "markdown",
   "metadata": {
    "deletable": true,
    "editable": true
   },
   "source": [
    "ИСПРАВЛЕНИЕ СНИЗУ"
   ]
  },
  {
   "cell_type": "code",
   "execution_count": 26,
   "metadata": {
    "collapsed": false,
    "deletable": true,
    "editable": true
   },
   "outputs": [
    {
     "data": {
      "text/plain": [
       "MultinomialNB(alpha=1.0, class_prior=None, fit_prior=True)"
      ]
     },
     "execution_count": 26,
     "metadata": {},
     "output_type": "execute_result"
    }
   ],
   "source": [
    "bow = CountVectorizer()\n",
    "bowed_train = bow.fit_transform(train)\n",
    " \n",
    "bowed_test = bow.transform(test)\n",
    "naive_model = MultinomialNB()\n",
    "naive_model.fit(bowed_train, np.array(train_answers))\n"
   ]
  },
  {
   "cell_type": "code",
   "execution_count": 27,
   "metadata": {
    "collapsed": false,
    "deletable": true,
    "editable": true
   },
   "outputs": [
    {
     "name": "stdout",
     "output_type": "stream",
     "text": [
      "             precision    recall  f1-score   support\n",
      "\n",
      "        ham       1.00      0.97      0.98      4825\n",
      "       spam       0.84      0.98      0.90       747\n",
      "\n",
      "avg / total       0.98      0.97      0.97      5572\n",
      "\n",
      "[[4687  138]\n",
      " [  18  729]]\n"
     ]
    }
   ],
   "source": [
    "predicted = naive_model.predict(bowed_test)\n",
    "\n",
    "print(classification_report(test_answers, predicted))\n",
    "print(confusion_matrix(test_answers, predicted))"
   ]
  },
  {
   "cell_type": "markdown",
   "metadata": {
    "deletable": true,
    "editable": true
   },
   "source": [
    "Получилось даже как-то подорительно хорошо... \n",
    "Хотя на спапе точность 0.53, то есть половина того что опонается спамом - и не спам вовсе. То есть совсем не хорошо."
   ]
  },
  {
   "cell_type": "markdown",
   "metadata": {
    "deletable": true,
    "editable": true
   },
   "source": [
    "ПОСЛЕ ПРАВИЛЬНОЙ ВЕКТОРИЗАЦИИ ВСЁ СТАЛО РАБОТАТЬ ЛУЧШЕ (МНЕ НЕПОНЯТНО, ПРАВДА, ПОЧЕМУ), НО НА СПАМЕ УЖЕ ТОЧНОСТЬ 83 - ВПОЛНЕ НЕПЛОХО!"
   ]
  },
  {
   "cell_type": "markdown",
   "metadata": {
    "deletable": true,
    "editable": true
   },
   "source": [
    "# Удалим знаки препинания. "
   ]
  },
  {
   "cell_type": "code",
   "execution_count": 28,
   "metadata": {
    "collapsed": false,
    "deletable": true,
    "editable": true
   },
   "outputs": [],
   "source": [
    "test_clear = [re.sub('[\\.,!\\?:;\"\\']', '', sent) for sent in test]\n",
    "train_clear = [re.sub('[\\.,!\\?:;\"\\']', '', sent) for sent in train]"
   ]
  },
  {
   "cell_type": "code",
   "execution_count": 29,
   "metadata": {
    "collapsed": false,
    "deletable": true,
    "editable": true
   },
   "outputs": [],
   "source": [
    "# bow = CountVectorizer()\n",
    "# bow.fit_transform([re.sub('[\\.,!\\?:;\"\\']', '', sent) for sent in messages['message']])\n",
    "# bowed_train_clear = bow.transform(train_clear)\n",
    "# bowed_test_clear = bow.transform(test_clear)\n",
    "# # print(test[4], bowed_test[4])\n",
    "# naive_model_clear = MultinomialNB()\n",
    "# naive_model_clear.fit(bowed_train_clear, np.array(train_answers))"
   ]
  },
  {
   "cell_type": "markdown",
   "metadata": {
    "deletable": true,
    "editable": true
   },
   "source": [
    "ИСПРАВЛЕНИЕ СНИЗУ"
   ]
  },
  {
   "cell_type": "code",
   "execution_count": 30,
   "metadata": {
    "collapsed": false,
    "deletable": true,
    "editable": true
   },
   "outputs": [
    {
     "data": {
      "text/plain": [
       "MultinomialNB(alpha=1.0, class_prior=None, fit_prior=True)"
      ]
     },
     "execution_count": 30,
     "metadata": {},
     "output_type": "execute_result"
    }
   ],
   "source": [
    "bowed_train_clear = bow.fit_transform(train_clear)\n",
    " \n",
    "bowed_test_clear = bow.transform(test_clear)\n",
    "naive_model_clear = MultinomialNB()\n",
    "naive_model_clear.fit(bowed_train_clear, np.array(train_answers))\n"
   ]
  },
  {
   "cell_type": "code",
   "execution_count": 31,
   "metadata": {
    "collapsed": false,
    "deletable": true,
    "editable": true
   },
   "outputs": [
    {
     "name": "stdout",
     "output_type": "stream",
     "text": [
      "             precision    recall  f1-score   support\n",
      "\n",
      "        ham       1.00      0.97      0.98      4825\n",
      "       spam       0.83      0.97      0.89       747\n",
      "\n",
      "avg / total       0.97      0.97      0.97      5572\n",
      "\n",
      "[[4672  153]\n",
      " [  20  727]]\n"
     ]
    }
   ],
   "source": [
    "predicted_clear = naive_model_clear.predict(bowed_test_clear)\n",
    "\n",
    "print(classification_report(test_answers, predicted_clear))\n",
    "print(confusion_matrix(test_answers, predicted_clear))"
   ]
  },
  {
   "cell_type": "markdown",
   "metadata": {
    "deletable": true,
    "editable": true
   },
   "source": [
    "Все стало только хуже! Возможно, в спаме больше знаков препинания, чем обычно, мы их отбрасываем и всё портится."
   ]
  },
  {
   "cell_type": "markdown",
   "metadata": {
    "deletable": true,
    "editable": true
   },
   "source": [
    "НА САМОМ ДЕЛЕ ПОЧТИ НИЧЕГО НЕ ПОМЕНЯЛОСЬ."
   ]
  },
  {
   "cell_type": "markdown",
   "metadata": {
    "deletable": true,
    "editable": true
   },
   "source": [
    "# Попробуем всё лемматизировать перед векторизацией"
   ]
  },
  {
   "cell_type": "code",
   "execution_count": 33,
   "metadata": {
    "collapsed": false,
    "deletable": true,
    "editable": true
   },
   "outputs": [],
   "source": [
    "def tokenize(text):\n",
    "    text = text.lower()\n",
    "    return word_tokenize(text)\n",
    "\n",
    "lmtzr = WordNetLemmatizer()\n",
    "\n",
    "def lemmatize(word):\n",
    "    noun = lmtzr.lemmatize(word)\n",
    "    verb = lmtzr.lemmatize(word, 'v')\n",
    "    if verb != word:\n",
    "        return verb\n",
    "    return noun\n",
    "\n",
    "def lematize(text):\n",
    "    text = tokenize(text)\n",
    "    text = ' '.join([lemmatize(word) for word in text])\n",
    "    return text\n",
    "\n",
    "train_lem = [lematize(sent) for sent in train]\n",
    "test_lem = [lematize(sent) for sent in test]"
   ]
  },
  {
   "cell_type": "code",
   "execution_count": 34,
   "metadata": {
    "collapsed": false,
    "deletable": true,
    "editable": true
   },
   "outputs": [],
   "source": [
    "# bow = CountVectorizer()\n",
    "# bow.fit_transform([lematize(sent) for sent in messages['message']])\n",
    "# bowed_train_lem = bow.transform(train_lem)\n",
    "# bowed_test_lem = bow.transform(test_lem)\n",
    "# naive_model_lem = MultinomialNB()\n",
    "# naive_model_lem.fit(bowed_train_lem, np.array(train_answers))\n",
    "# predicted_lem = naive_model_lem.predict(bowed_test_lem)\n"
   ]
  },
  {
   "cell_type": "markdown",
   "metadata": {
    "deletable": true,
    "editable": true
   },
   "source": [
    "ИСПРАВЛЕНИЕ СНИЗУ"
   ]
  },
  {
   "cell_type": "code",
   "execution_count": 35,
   "metadata": {
    "collapsed": false,
    "deletable": true,
    "editable": true
   },
   "outputs": [
    {
     "data": {
      "text/plain": [
       "MultinomialNB(alpha=1.0, class_prior=None, fit_prior=True)"
      ]
     },
     "execution_count": 35,
     "metadata": {},
     "output_type": "execute_result"
    }
   ],
   "source": [
    "bowed_train_lem = bow.fit_transform(train_lem)\n",
    " \n",
    "bowed_test_lem = bow.transform(test_lem)\n",
    "naive_model_lem = MultinomialNB()\n",
    "naive_model_lem.fit(bowed_train_lem, np.array(train_answers))\n"
   ]
  },
  {
   "cell_type": "code",
   "execution_count": 36,
   "metadata": {
    "collapsed": false,
    "deletable": true,
    "editable": true
   },
   "outputs": [
    {
     "name": "stdout",
     "output_type": "stream",
     "text": [
      "             precision    recall  f1-score   support\n",
      "\n",
      "        ham       1.00      0.97      0.98      4825\n",
      "       spam       0.84      0.97      0.90       747\n",
      "\n",
      "avg / total       0.98      0.97      0.97      5572\n",
      "\n",
      "[[4689  136]\n",
      " [  20  727]]\n"
     ]
    }
   ],
   "source": [
    "predicted_lem = naive_model_lem.predict(bowed_test_lem)\n",
    "print(classification_report(test_answers, predicted_lem))\n",
    "print(confusion_matrix(test_answers, predicted_lem))"
   ]
  },
  {
   "cell_type": "markdown",
   "metadata": {
    "deletable": true,
    "editable": true
   },
   "source": [
    "никакого эффекта :("
   ]
  },
  {
   "cell_type": "markdown",
   "metadata": {
    "deletable": true,
    "editable": true
   },
   "source": [
    "# А если всё застемить?"
   ]
  },
  {
   "cell_type": "code",
   "execution_count": 37,
   "metadata": {
    "collapsed": false,
    "deletable": true,
    "editable": true
   },
   "outputs": [],
   "source": [
    "port = PorterStemmer()\n",
    "def stemize(text):\n",
    "    text = tokenize(text)\n",
    "    text = ' '.join([port.stem(word) for word in text])\n",
    "    return text\n",
    "\n",
    "train_stem = [stemize(sent) for sent in train]\n",
    "test_stem = [stemize(sent) for sent in test]"
   ]
  },
  {
   "cell_type": "code",
   "execution_count": 38,
   "metadata": {
    "collapsed": false,
    "deletable": true,
    "editable": true
   },
   "outputs": [],
   "source": [
    "# bow = CountVectorizer()\n",
    "# bow.fit_transform([stemize(sent) for sent in messages['message']])\n",
    "# bowed_train_stem = bow.transform(train_stem)\n",
    "# bowed_test_stem = bow.transform(test_stem)\n",
    "# naive_model_stem = MultinomialNB()\n",
    "# naive_model_stem.fit(bowed_train_stem, np.array(train_answers))\n"
   ]
  },
  {
   "cell_type": "markdown",
   "metadata": {
    "deletable": true,
    "editable": true
   },
   "source": [
    "ИСПРАВЛЕНИЕ СНИЗУ"
   ]
  },
  {
   "cell_type": "code",
   "execution_count": 39,
   "metadata": {
    "collapsed": false,
    "deletable": true,
    "editable": true
   },
   "outputs": [
    {
     "data": {
      "text/plain": [
       "MultinomialNB(alpha=1.0, class_prior=None, fit_prior=True)"
      ]
     },
     "execution_count": 39,
     "metadata": {},
     "output_type": "execute_result"
    }
   ],
   "source": [
    "bowed_train_stem = bow.fit_transform(train_stem)\n",
    " \n",
    "bowed_test_stem = bow.transform(test_stem)\n",
    "naive_model_stem = MultinomialNB()\n",
    "naive_model_stem.fit(bowed_train_stem, np.array(train_answers))\n"
   ]
  },
  {
   "cell_type": "code",
   "execution_count": 40,
   "metadata": {
    "collapsed": false,
    "deletable": true,
    "editable": true
   },
   "outputs": [
    {
     "name": "stdout",
     "output_type": "stream",
     "text": [
      "             precision    recall  f1-score   support\n",
      "\n",
      "        ham       1.00      0.97      0.98      4825\n",
      "       spam       0.84      0.97      0.90       747\n",
      "\n",
      "avg / total       0.98      0.97      0.97      5572\n",
      "\n",
      "[[4692  133]\n",
      " [  22  725]]\n"
     ]
    }
   ],
   "source": [
    "predicted_stem = naive_model_stem.predict(bowed_test_stem)\n",
    "print(classification_report(test_answers, predicted_stem))\n",
    "print(confusion_matrix(test_answers, predicted_stem))"
   ]
  },
  {
   "cell_type": "markdown",
   "metadata": {
    "deletable": true,
    "editable": true
   },
   "source": [
    "работает пренебрежимо мало лучше. А на что мы надеялись? В богатом флективном английском и так все слова одинаковые, даже если их не лемматизировать."
   ]
  },
  {
   "cell_type": "markdown",
   "metadata": {
    "deletable": true,
    "editable": true
   },
   "source": [
    "# Дерево и лес"
   ]
  },
  {
   "cell_type": "markdown",
   "metadata": {
    "deletable": true,
    "editable": true
   },
   "source": [
    "Сделаем дерево и лес"
   ]
  },
  {
   "cell_type": "code",
   "execution_count": 41,
   "metadata": {
    "collapsed": false,
    "deletable": true,
    "editable": true
   },
   "outputs": [
    {
     "name": "stdout",
     "output_type": "stream",
     "text": [
      "             precision    recall  f1-score   support\n",
      "\n",
      "        ham       1.00      0.93      0.96      4825\n",
      "       spam       0.70      0.97      0.81       747\n",
      "\n",
      "avg / total       0.96      0.94      0.94      5572\n",
      "\n"
     ]
    }
   ],
   "source": [
    "tree = DecisionTreeClassifier(min_samples_split=5)\n",
    "tree.fit(bowed_train, np.array(train_answers))\n",
    "predicted_tree = tree.predict(bowed_test)\n",
    "\n",
    "print(classification_report(test_answers, predicted_tree))"
   ]
  },
  {
   "cell_type": "markdown",
   "metadata": {
    "deletable": true,
    "editable": true
   },
   "source": [
    "Дерево работает еще хуже! Оно еще больше сообщений безвинно засовывает в спам!"
   ]
  },
  {
   "cell_type": "code",
   "execution_count": 42,
   "metadata": {
    "collapsed": false,
    "deletable": true,
    "editable": true
   },
   "outputs": [
    {
     "name": "stdout",
     "output_type": "stream",
     "text": [
      "             precision    recall  f1-score   support\n",
      "\n",
      "        ham       1.00      0.99      0.99      4825\n",
      "       spam       0.92      0.97      0.94       747\n",
      "\n",
      "avg / total       0.99      0.98      0.98      5572\n",
      "\n"
     ]
    }
   ],
   "source": [
    "forest = RandomForestClassifier(min_samples_split=5)\n",
    "forest.fit(bowed_train, np.array(train_answers))\n",
    "predicted_forest = forest.predict(bowed_test)\n",
    "\n",
    "print(classification_report(test_answers, predicted_forest))"
   ]
  },
  {
   "cell_type": "markdown",
   "metadata": {
    "deletable": true,
    "editable": true
   },
   "source": [
    "А вот лес уже больше радует. Но для задачи определения спама хотелось бы видеть бОльшую точность, полнота здесь не так важна. Не так страшно прислать пользователю спам, как удалить нормальное сообщение. А во всех трех моделях точность страдает..."
   ]
  },
  {
   "cell_type": "markdown",
   "metadata": {
    "deletable": true,
    "editable": true
   },
   "source": [
    "# попробуем фичи всякие"
   ]
  },
  {
   "cell_type": "markdown",
   "metadata": {
    "deletable": true,
    "editable": true
   },
   "source": [
    "длина сообщения, количество букв в ВЕРХНЕМ РЕГИСТРЕ, восклицательных знаков, цифр, запятых"
   ]
  },
  {
   "cell_type": "code",
   "execution_count": 54,
   "metadata": {
    "collapsed": false,
    "deletable": true,
    "editable": true
   },
   "outputs": [],
   "source": [
    "def count(text):\n",
    "    u = 0\n",
    "    excl = 0\n",
    "    num = 0\n",
    "    numb = list('0123456789')\n",
    "    comma = 0\n",
    "    for letter in text:\n",
    "        if letter in numb:\n",
    "            num += 1\n",
    "        elif letter == ',':\n",
    "            comma += 1\n",
    "        elif letter == '!':\n",
    "            excl +=1\n",
    "        elif letter == letter.upper() and letter != letter.lower():\n",
    "            u += 1\n",
    "    return u, excl, num, comma\n",
    "\n",
    "train_features = [count(sent) for sent in train]\n",
    "test_features = [count(sent) for sent in test]"
   ]
  },
  {
   "cell_type": "code",
   "execution_count": 55,
   "metadata": {
    "collapsed": false
   },
   "outputs": [
    {
     "name": "stdout",
     "output_type": "stream",
     "text": [
      "             precision    recall  f1-score   support\n",
      "\n",
      "        ham       0.98      0.89      0.93      4825\n",
      "       spam       0.56      0.86      0.68       747\n",
      "\n",
      "avg / total       0.92      0.89      0.90      5572\n",
      "\n",
      "[[4313  512]\n",
      " [ 102  645]]\n"
     ]
    }
   ],
   "source": [
    "naive_model_feat = MultinomialNB()\n",
    "naive_model_feat.fit(train_features, np.array(train_answers))\n",
    "predicted_feat = naive_model_feat.predict(test_features)\n",
    "print(classification_report(test_answers, predicted_feat))\n",
    "print(confusion_matrix(test_answers, predicted_feat))"
   ]
  },
  {
   "cell_type": "markdown",
   "metadata": {},
   "source": [
    "Ха-ха, точность у спама 56 %, не очень-то."
   ]
  },
  {
   "cell_type": "markdown",
   "metadata": {
    "deletable": true,
    "editable": true
   },
   "source": [
    "# посмотрим рок-кривые"
   ]
  },
  {
   "cell_type": "code",
   "execution_count": 47,
   "metadata": {
    "collapsed": true,
    "deletable": true,
    "editable": true
   },
   "outputs": [],
   "source": [
    "def to10(test_answers):\n",
    "    test_answers10 = []\n",
    "    for i in test_answers:\n",
    "        if i == 'spam':\n",
    "            test_answers10.append(0)\n",
    "        else:\n",
    "            test_answers10.append(1)\n",
    "    return test_answers10\n",
    "test_answers10 = to10(test_answers)\n",
    "predicted10 = to10(predicted)\n",
    "predicted_tree10 = to10(predicted_tree)\n",
    "predicted_forest10 = to10(predicted_forest)\n",
    "predicted_lem10 = to10(predicted_lem)\n",
    "predicted_stem10 = to10(predicted_stem)\n",
    "predicted_clear10 = to10(predicted_clear)\n",
    "predicted_feat10 = to10(predicted_clear)\n"
   ]
  },
  {
   "cell_type": "code",
   "execution_count": 51,
   "metadata": {
    "collapsed": false,
    "deletable": true,
    "editable": true
   },
   "outputs": [
    {
     "data": {
      "text/plain": [
       "<matplotlib.figure.Figure at 0x8aafc70>"
      ]
     },
     "metadata": {},
     "output_type": "display_data"
    },
    {
     "data": {
      "image/png": "[encoded data removed]",
      "text/plain": [
       "<matplotlib.figure.Figure at 0x8aafbd0>"
      ]
     },
     "metadata": {},
     "output_type": "display_data"
    }
   ],
   "source": [
    "pl.clf()\n",
    "plt.figure(figsize=(8,6))\n",
    "\n",
    "\n",
    "fpr, tpr, thresholds = roc_curve(test_answers10, predicted10)\n",
    "roc_auc  = auc(fpr, tpr)\n",
    "pl.plot(fpr, tpr, label='%s ROC (area = %0.2f)' % ('bayes', roc_auc))\n",
    "\n",
    "fpr, tpr, thresholds = roc_curve(test_answers10, predicted_clear10)\n",
    "roc_auc  = auc(fpr, tpr)\n",
    "pl.plot(fpr, tpr, label='%s ROC (area = %0.2f)' % ('bayes без зп', roc_auc))\n",
    "\n",
    "fpr, tpr, thresholds = roc_curve(test_answers10, predicted_lem10)\n",
    "roc_auc  = auc(fpr, tpr)\n",
    "pl.plot(fpr, tpr, label='%s ROC (area = %0.2f)' % ('bayes lemmatized', roc_auc))\n",
    "\n",
    "fpr, tpr, thresholds = roc_curve(test_answers10, predicted_stem10)\n",
    "roc_auc  = auc(fpr, tpr)\n",
    "pl.plot(fpr, tpr, label='%s ROC (area = %0.2f)' % ('bayes stematized', roc_auc))\n",
    "\n",
    "fpr, tpr, thresholds = roc_curve(test_answers10, predicted_tree10)\n",
    "roc_auc  = auc(fpr, tpr)\n",
    "pl.plot(fpr, tpr, label='%s ROC (area = %0.2f)' % ('tree', roc_auc))\n",
    "\n",
    "\n",
    "fpr, tpr, thresholds = roc_curve(test_answers10, predicted_forest10)\n",
    "roc_auc  = auc(fpr, tpr)\n",
    "pl.plot(fpr, tpr, label='%s ROC (area = %0.2f)' % ('forest', roc_auc))\n",
    "\n",
    "fpr, tpr, thresholds = roc_curve(test_answers10, predicted_feat10)\n",
    "roc_auc  = auc(fpr, tpr)\n",
    "pl.plot(fpr, tpr, label='%s ROC (area = %0.2f)' % ('feat', roc_auc))\n",
    "\n",
    "pl.plot([0, 1], [0, 1], 'k--')\n",
    "pl.xlim([0.0, 1.0])\n",
    "pl.ylim([0.0, 1.0])\n",
    "pl.xlabel('False Positive Rate')\n",
    "pl.ylabel('True Positive Rate')\n",
    "pl.legend(loc=0, fontsize='small')\n",
    "pl.show()"
   ]
  },
  {
   "cell_type": "markdown",
   "metadata": {
    "deletable": true,
    "editable": true
   },
   "source": [
    "Честно говоря, не знаю, что тут сказать... Всё плохо, но лес чуть лучше, а дерево - чуть хуже."
   ]
  },
  {
   "cell_type": "markdown",
   "metadata": {
    "collapsed": true,
    "deletable": true,
    "editable": true
   },
   "source": [
    "А ТЕПЕРЬ ВСЁ ХОРОШО!"
   ]
  },
  {
   "cell_type": "code",
   "execution_count": null,
   "metadata": {
    "collapsed": true
   },
   "outputs": [],
   "source": []
  }
 ],
 "metadata": {
  "kernelspec": {
   "display_name": "Python 3",
   "language": "python",
   "name": "python3"
  },
  "language_info": {
   "codemirror_mode": {
    "name": "ipython",
    "version": 3
   },
   "file_extension": ".py",
   "mimetype": "text/x-python",
   "name": "python",
   "nbconvert_exporter": "python",
   "pygments_lexer": "ipython3",
   "version": "3.5.2"
  }
 },
 "nbformat": 4,
 "nbformat_minor": 2
}
