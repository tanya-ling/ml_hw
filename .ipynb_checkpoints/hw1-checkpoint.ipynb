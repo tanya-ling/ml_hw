{
 "cells": [
  {
   "cell_type": "markdown",
   "metadata": {
    "deletable": true,
    "editable": true
   },
   "source": [
    "Простой анализ данных в Pandas. Деревья решений, Random Forest"
   ]
  },
  {
   "cell_type": "code",
   "execution_count": 106,
   "metadata": {
    "collapsed": false,
    "deletable": true,
    "editable": true
   },
   "outputs": [],
   "source": [
    "import numpy as np\n",
    "import pandas\n",
    "from sklearn.tree import DecisionTreeClassifier, export_graphviz\n",
    "import matplotlib.pyplot as plt\n",
    "from sklearn.ensemble import RandomForestClassifier\n",
    "from sklearn.model_selection import train_test_split, KFold, cross_val_score\n",
    "from sklearn.metrics import classification_report, f1_score, roc_curve, auc\n",
    "import math\n",
    "from sklearn.grid_search import GridSearchCV\n",
    "import io\n",
    "from scipy import misc\n",
    "import pydot\n",
    "import graphviz\n",
    "import time\n",
    "import pylab as pl\n",
    "\n",
    "%matplotlib inline"
   ]
  },
  {
   "cell_type": "markdown",
   "metadata": {},
   "source": [
    "# посмотреть на данные"
   ]
  },
  {
   "cell_type": "code",
   "execution_count": 107,
   "metadata": {
    "collapsed": false,
    "deletable": true,
    "editable": true
   },
   "outputs": [
    {
     "data": {
      "text/html": [
       "<div>\n",
       "<table border=\"1\" class=\"dataframe\">\n",
       "  <thead>\n",
       "    <tr style=\"text-align: right;\">\n",
       "      <th></th>\n",
       "      <th>Survived</th>\n",
       "      <th>Pclass</th>\n",
       "      <th>Name</th>\n",
       "      <th>Sex</th>\n",
       "      <th>Age</th>\n",
       "      <th>SibSp</th>\n",
       "      <th>Parch</th>\n",
       "      <th>Ticket</th>\n",
       "      <th>Fare</th>\n",
       "      <th>Cabin</th>\n",
       "      <th>Embarked</th>\n",
       "    </tr>\n",
       "    <tr>\n",
       "      <th>PassengerId</th>\n",
       "      <th></th>\n",
       "      <th></th>\n",
       "      <th></th>\n",
       "      <th></th>\n",
       "      <th></th>\n",
       "      <th></th>\n",
       "      <th></th>\n",
       "      <th></th>\n",
       "      <th></th>\n",
       "      <th></th>\n",
       "      <th></th>\n",
       "    </tr>\n",
       "  </thead>\n",
       "  <tbody>\n",
       "    <tr>\n",
       "      <th>1</th>\n",
       "      <td>0</td>\n",
       "      <td>3</td>\n",
       "      <td>Braund, Mr. Owen Harris</td>\n",
       "      <td>male</td>\n",
       "      <td>22.0</td>\n",
       "      <td>1</td>\n",
       "      <td>0</td>\n",
       "      <td>A/5 21171</td>\n",
       "      <td>7.2500</td>\n",
       "      <td>NaN</td>\n",
       "      <td>S</td>\n",
       "    </tr>\n",
       "    <tr>\n",
       "      <th>2</th>\n",
       "      <td>1</td>\n",
       "      <td>1</td>\n",
       "      <td>Cumings, Mrs. John Bradley (Florence Briggs Th...</td>\n",
       "      <td>female</td>\n",
       "      <td>38.0</td>\n",
       "      <td>1</td>\n",
       "      <td>0</td>\n",
       "      <td>PC 17599</td>\n",
       "      <td>71.2833</td>\n",
       "      <td>C85</td>\n",
       "      <td>C</td>\n",
       "    </tr>\n",
       "    <tr>\n",
       "      <th>3</th>\n",
       "      <td>1</td>\n",
       "      <td>3</td>\n",
       "      <td>Heikkinen, Miss. Laina</td>\n",
       "      <td>female</td>\n",
       "      <td>26.0</td>\n",
       "      <td>0</td>\n",
       "      <td>0</td>\n",
       "      <td>STON/O2. 3101282</td>\n",
       "      <td>7.9250</td>\n",
       "      <td>NaN</td>\n",
       "      <td>S</td>\n",
       "    </tr>\n",
       "    <tr>\n",
       "      <th>4</th>\n",
       "      <td>1</td>\n",
       "      <td>1</td>\n",
       "      <td>Futrelle, Mrs. Jacques Heath (Lily May Peel)</td>\n",
       "      <td>female</td>\n",
       "      <td>35.0</td>\n",
       "      <td>1</td>\n",
       "      <td>0</td>\n",
       "      <td>113803</td>\n",
       "      <td>53.1000</td>\n",
       "      <td>C123</td>\n",
       "      <td>S</td>\n",
       "    </tr>\n",
       "    <tr>\n",
       "      <th>5</th>\n",
       "      <td>0</td>\n",
       "      <td>3</td>\n",
       "      <td>Allen, Mr. William Henry</td>\n",
       "      <td>male</td>\n",
       "      <td>35.0</td>\n",
       "      <td>0</td>\n",
       "      <td>0</td>\n",
       "      <td>373450</td>\n",
       "      <td>8.0500</td>\n",
       "      <td>NaN</td>\n",
       "      <td>S</td>\n",
       "    </tr>\n",
       "  </tbody>\n",
       "</table>\n",
       "</div>"
      ],
      "text/plain": [
       "             Survived  Pclass  \\\n",
       "PassengerId                     \n",
       "1                   0       3   \n",
       "2                   1       1   \n",
       "3                   1       3   \n",
       "4                   1       1   \n",
       "5                   0       3   \n",
       "\n",
       "                                                          Name     Sex   Age  \\\n",
       "PassengerId                                                                    \n",
       "1                                      Braund, Mr. Owen Harris    male  22.0   \n",
       "2            Cumings, Mrs. John Bradley (Florence Briggs Th...  female  38.0   \n",
       "3                                       Heikkinen, Miss. Laina  female  26.0   \n",
       "4                 Futrelle, Mrs. Jacques Heath (Lily May Peel)  female  35.0   \n",
       "5                                     Allen, Mr. William Henry    male  35.0   \n",
       "\n",
       "             SibSp  Parch            Ticket     Fare Cabin Embarked  \n",
       "PassengerId                                                          \n",
       "1                1      0         A/5 21171   7.2500   NaN        S  \n",
       "2                1      0          PC 17599  71.2833   C85        C  \n",
       "3                0      0  STON/O2. 3101282   7.9250   NaN        S  \n",
       "4                1      0            113803  53.1000  C123        S  \n",
       "5                0      0            373450   8.0500   NaN        S  "
      ]
     },
     "execution_count": 107,
     "metadata": {},
     "output_type": "execute_result"
    }
   ],
   "source": [
    "df = pandas.read_csv('titanic.csv', index_col='PassengerId')\n",
    "df.head()"
   ]
  },
  {
   "cell_type": "code",
   "execution_count": 108,
   "metadata": {
    "collapsed": false,
    "deletable": true,
    "editable": true
   },
   "outputs": [
    {
     "data": {
      "text/plain": [
       "(0, 100)"
      ]
     },
     "execution_count": 108,
     "metadata": {},
     "output_type": "execute_result"
    },
    {
     "data": {
      "image/png": "[encoded data removed]",
      "text/plain": [
       "<matplotlib.figure.Figure at 0x858b3b0>"
      ]
     },
     "metadata": {},
     "output_type": "display_data"
    }
   ],
   "source": [
    "women = df[df.Sex == 'female'].Survived\n",
    "ws = 100 * sum(women)/ len(women)\n",
    "men = df[df.Sex == 'male'].Survived\n",
    "ms = 100 * sum(men)/ len(men)\n",
    "plt.bar(np.arange(2), [ws, ms])\n",
    "plt.title('шанс выжить у женщин и у мужчин')\n",
    "plt.xticks(np.arange(2), ['женщины', 'мужчины'])\n",
    "plt.ylim((0,100))"
   ]
  },
  {
   "cell_type": "markdown",
   "metadata": {
    "deletable": true,
    "editable": true
   },
   "source": [
    "Женщины более живучие (74 % выживших против 18 %)! Судя по фильму, их просто первыми сажали в лодки."
   ]
  },
  {
   "cell_type": "code",
   "execution_count": 109,
   "metadata": {
    "collapsed": false,
    "deletable": true,
    "editable": true
   },
   "outputs": [
    {
     "data": {
      "text/plain": [
       "(62.962962962962962, 47.282608695652172, 24.236252545824847)"
      ]
     },
     "execution_count": 109,
     "metadata": {},
     "output_type": "execute_result"
    },
    {
     "data": {
      "image/png": "[encoded data removed]",
      "text/plain": [
       "<matplotlib.figure.Figure at 0x85b30d0>"
      ]
     },
     "metadata": {},
     "output_type": "display_data"
    }
   ],
   "source": [
    "first = df[df.Pclass == 1]\n",
    "fs = 100 * sum(first.Survived)/ len(first)\n",
    "second = df[df.Pclass == 2]\n",
    "ss = 100 * sum(second.Survived)/ len(second)\n",
    "third = df[df.Pclass == 3]\n",
    "ts = 100 * sum(third.Survived)/ len(third)\n",
    "plt.bar(np.arange(3), [fs, ss, ts])\n",
    "plt.title('шанс выжить у пассажиров разных классов')\n",
    "plt.xticks(np.arange(3), ['1 класс', '2 класс', \"3 класс\"])\n",
    "plt.ylim((0,100))\n",
    "fs, ss, ts"
   ]
  },
  {
   "cell_type": "markdown",
   "metadata": {
    "deletable": true,
    "editable": true
   },
   "source": [
    "Блаженны нищие, а выживут богатые // - 63 %, 47 %, 24 % выживших в первом, втором и третьем классе соответственно."
   ]
  },
  {
   "cell_type": "code",
   "execution_count": 110,
   "metadata": {
    "collapsed": false,
    "deletable": true,
    "editable": true
   },
   "outputs": [
    {
     "data": {
      "text/plain": [
       "<matplotlib.text.Text at 0xa1eabd0>"
      ]
     },
     "execution_count": 110,
     "metadata": {},
     "output_type": "execute_result"
    },
    {
     "data": {
      "image/png": "[encoded data removed]",
      "text/plain": [
       "<matplotlib.figure.Figure at 0x871e710>"
      ]
     },
     "metadata": {},
     "output_type": "display_data"
    }
   ],
   "source": [
    "data = [df.Fare[df.Pclass == 1], df.Fare[df.Pclass == 2], df.Fare[df.Pclass == 3]]\n",
    "\n",
    "plt.boxplot(data)\n",
    "plt.xticks(np.arange(3) + 1, ('1 класс','2 класс','3 класс'))\n",
    "plt.title('цена билета в зависимости от социального класса')"
   ]
  },
  {
   "cell_type": "markdown",
   "metadata": {
    "deletable": true,
    "editable": true
   },
   "source": [
    "У богатых билеты дороже, не очень неожиданно. Наверное, стоит убрать за пределы графика фриков из первого класса, купивших билеты в 5-10 раз дороже, чем все остальные, чтобы лучше было видно разницу между 2-м и 3-м классом. Еще подозрительны люди, купившие билет забесплатно, лучше без них."
   ]
  },
  {
   "cell_type": "code",
   "execution_count": 111,
   "metadata": {
    "collapsed": false,
    "deletable": true,
    "editable": true
   },
   "outputs": [
    {
     "data": {
      "text/plain": [
       "('medians', 61.979199999999999, 15.0229, 8.0500000000000007)"
      ]
     },
     "execution_count": 111,
     "metadata": {},
     "output_type": "execute_result"
    },
    {
     "data": {
      "image/png": "[encoded data removed]",
      "text/plain": [
       "<matplotlib.figure.Figure at 0xa4b1350>"
      ]
     },
     "metadata": {},
     "output_type": "display_data"
    }
   ],
   "source": [
    "data = [df.Fare[(df.Pclass == 1)&(0 < df.Fare)], df.Fare[(df.Pclass == 2)&(0 < df.Fare)], df.Fare[(df.Pclass == 3)&(0 < df.Fare)]]\n",
    "\n",
    "plt.boxplot(data)\n",
    "plt.xticks(np.arange(3) + 1, ('1 класс','2 класс','3 класс'))\n",
    "plt.title('цена билета в зависимости от социального класса')\n",
    "plt.grid()\n",
    "plt.yscale('linear', linscale = 10)\n",
    "plt.ylim((0,170))\n",
    "'medians', np.median(df.Fare[(df.Pclass == 1)&(0 < df.Fare)]), np.median(df.Fare[(df.Pclass == 2)&(0 < df.Fare)]), np.median(df.Fare[(df.Pclass == 3)&(0 < df.Fare)])"
   ]
  },
  {
   "cell_type": "markdown",
   "metadata": {
    "deletable": true,
    "editable": true
   },
   "source": [
    "Интересно, что медиана в первом классе медиана где-то посередине, а во втором и третьем ближе к нижнему квартилю. Наверное, это должно значить, что доходы растут не линейно, а намного быстрее."
   ]
  },
  {
   "cell_type": "code",
   "execution_count": 112,
   "metadata": {
    "collapsed": false,
    "deletable": true,
    "editable": true
   },
   "outputs": [
    {
     "data": {
      "text/plain": [
       "(0, 110)"
      ]
     },
     "execution_count": 112,
     "metadata": {},
     "output_type": "execute_result"
    },
    {
     "data": {
      "image/png": "[encoded data removed]",
      "text/plain": [
       "<matplotlib.figure.Figure at 0xa288f30>"
      ]
     },
     "metadata": {},
     "output_type": "display_data"
    }
   ],
   "source": [
    "def persentage(x):\n",
    "    return sum(x)*100/len(x)\n",
    "\n",
    "n_groups = 3\n",
    "ff = first[first.Sex == 'female'].Survived\n",
    "sf = second[second.Sex == 'female'].Survived\n",
    "tf = third[third.Sex == 'female'].Survived\n",
    "fm = first[first.Sex == 'male'].Survived\n",
    "sm = second[second.Sex == 'male'].Survived\n",
    "tm = third[third.Sex == 'male'].Survived\n",
    "means_women = (persentage(ff), persentage(sf), persentage(tf))\n",
    "means_men = (persentage(fm), persentage(sm), persentage(tm))\n",
    " \n",
    "fig, ax = plt.subplots()\n",
    "index = np.arange(n_groups)\n",
    "bar_width = 0.35\n",
    "opacity = 0.8\n",
    " \n",
    "rects1 = plt.bar(index, means_women, bar_width,\n",
    "                 alpha=opacity,\n",
    "                 color='r',\n",
    "                 label='Women')\n",
    "women_nom = (sum(ff), sum(sf), sum(tf))\n",
    "men_nom = (sum(fm), sum(sm), sum(tm))\n",
    "women_all = (len(ff), len(sf), len(tf))\n",
    "men_all = (len(fm), len(sm), len(tm))\n",
    " \n",
    "rects2 = plt.bar(index + bar_width, means_men, bar_width,\n",
    "                 alpha=opacity,\n",
    "                 color='b',\n",
    "                 label='Men')\n",
    " \n",
    "\n",
    "plt.ylabel('процент выживших')\n",
    "plt.xticks(index + bar_width, ('1 класс', '2 класс', '3 класс'))\n",
    "plt.legend()\n",
    "plt.title('шанс выжить у пассажиров разных классов и пола')\n",
    "plt.grid()\n",
    "def autolabel(rects, nombers, allto):\n",
    "    i = 0\n",
    "    for rect in rects:\n",
    "        height = rect.get_height()\n",
    "        ax.text(rect.get_x() + rect.get_width()/2., 1.05*height,\n",
    "                str('%d' % int(height)) + ' %, ' + str(nombers[i]) + '/' + str(allto[i]),\n",
    "                ha='center', va='bottom')\n",
    "        i += 1\n",
    "\n",
    "autolabel(rects1, women_nom, women_all)\n",
    "autolabel(rects2, men_nom, men_all)\n",
    "plt.ylim(0, 110)"
   ]
  },
  {
   "cell_type": "markdown",
   "metadata": {
    "deletable": true,
    "editable": true
   },
   "source": [
    "\n",
    "Вероятность выжить в каждой категории подписана на графике.\n",
    "Как видно, гендерное неравенство сильнее классового: женщин третьего класса выжило больше, чем мужчин первого!\n",
    "\n",
    "Запишу в виде формул: - В - человек выживет, Ж - человек женщина, I - человек первого класса.\n",
    "\n",
    "Всего у нас 891 человек, но это число можно не использовать, потому что везде всё равно оно должно посокращаться.\n",
    "\n",
    "Всего у нас выживших 342 человека. В = 342. \n",
    "\n",
    "Женщин у нас было 314. Ж = 314.\n",
    "\n",
    "В первом классе ехало 216 человек. I = 216.\n",
    "\n",
    "Выживших женщин 233. В&Ж = 233.\n",
    "\n",
    "Выживших в первом классе I&B = 136.\n",
    "\n",
    "Человек выживет при условии, что он женщина В | Ж = 74 % (из предыдущего графика). Проверим по формуле Байеса, что я нигде не запуталась. В | Ж = B&Ж : Ж = 233 : 314 = 74 %. Всё правильно!\n",
    "\n",
    "Аналогично В | М = 18 %, В | I = 63 %, B | II = 47 %, B | III = 24 %\n",
    "\n",
    "Человек женщина при условии, что он выжил - Ж | B = B&Ж : B = 233 : 342 = 68 % - неудивительно, если видим выжевшего человека, можно с уверенностью утверждать что скорее всего это женщина \n",
    "\n",
    "Человек принадлежит первому классу при условии, что он выжил I | B = I&B : B = 136 : 342 = 40 % - а вот так не работает, всего лишь 40 прц (ведь гендерное неравенство сильнее классового!). Первый класс сам по себе  не очень хорошо помогает выжить."
   ]
  },
  {
   "cell_type": "code",
   "execution_count": 113,
   "metadata": {
    "collapsed": false,
    "deletable": true,
    "editable": true
   },
   "outputs": [
    {
     "data": {
      "text/html": [
       "<div>\n",
       "<table border=\"1\" class=\"dataframe\">\n",
       "  <thead>\n",
       "    <tr style=\"text-align: right;\">\n",
       "      <th></th>\n",
       "      <th>Pclass</th>\n",
       "      <th>Fare</th>\n",
       "      <th>Age</th>\n",
       "      <th>SibSp</th>\n",
       "      <th>Sex_female</th>\n",
       "      <th>Sex_male</th>\n",
       "    </tr>\n",
       "    <tr>\n",
       "      <th>PassengerId</th>\n",
       "      <th></th>\n",
       "      <th></th>\n",
       "      <th></th>\n",
       "      <th></th>\n",
       "      <th></th>\n",
       "      <th></th>\n",
       "    </tr>\n",
       "  </thead>\n",
       "  <tbody>\n",
       "    <tr>\n",
       "      <th>1</th>\n",
       "      <td>3</td>\n",
       "      <td>7.2500</td>\n",
       "      <td>22.0</td>\n",
       "      <td>1</td>\n",
       "      <td>0</td>\n",
       "      <td>1</td>\n",
       "    </tr>\n",
       "    <tr>\n",
       "      <th>2</th>\n",
       "      <td>1</td>\n",
       "      <td>71.2833</td>\n",
       "      <td>38.0</td>\n",
       "      <td>1</td>\n",
       "      <td>1</td>\n",
       "      <td>0</td>\n",
       "    </tr>\n",
       "    <tr>\n",
       "      <th>3</th>\n",
       "      <td>3</td>\n",
       "      <td>7.9250</td>\n",
       "      <td>26.0</td>\n",
       "      <td>0</td>\n",
       "      <td>1</td>\n",
       "      <td>0</td>\n",
       "    </tr>\n",
       "    <tr>\n",
       "      <th>4</th>\n",
       "      <td>1</td>\n",
       "      <td>53.1000</td>\n",
       "      <td>35.0</td>\n",
       "      <td>1</td>\n",
       "      <td>1</td>\n",
       "      <td>0</td>\n",
       "    </tr>\n",
       "    <tr>\n",
       "      <th>5</th>\n",
       "      <td>3</td>\n",
       "      <td>8.0500</td>\n",
       "      <td>35.0</td>\n",
       "      <td>0</td>\n",
       "      <td>0</td>\n",
       "      <td>1</td>\n",
       "    </tr>\n",
       "  </tbody>\n",
       "</table>\n",
       "</div>"
      ],
      "text/plain": [
       "             Pclass     Fare   Age  SibSp  Sex_female  Sex_male\n",
       "PassengerId                                                    \n",
       "1                 3   7.2500  22.0      1           0         1\n",
       "2                 1  71.2833  38.0      1           1         0\n",
       "3                 3   7.9250  26.0      0           1         0\n",
       "4                 1  53.1000  35.0      1           1         0\n",
       "5                 3   8.0500  35.0      0           0         1"
      ]
     },
     "execution_count": 113,
     "metadata": {},
     "output_type": "execute_result"
    }
   ],
   "source": [
    "df = df.fillna(df.median(axis=0), axis=0)\n",
    "x_labels = ['Pclass', 'Fare', 'Age', 'Sex', 'SibSp']\n",
    "X, y = df[x_labels], df['Survived']\n",
    "X = pandas.get_dummies(X)\n",
    "X.head()"
   ]
  },
  {
   "cell_type": "code",
   "execution_count": 114,
   "metadata": {
    "collapsed": false,
    "deletable": true,
    "editable": true
   },
   "outputs": [],
   "source": [
    "X_train, X_test, y_train, y_test = train_test_split(X, y, test_size=0.3)"
   ]
  },
  {
   "cell_type": "markdown",
   "metadata": {
    "collapsed": false,
    "deletable": true,
    "editable": true
   },
   "source": [
    "# DecisionTree"
   ]
  },
  {
   "cell_type": "code",
   "execution_count": 115,
   "metadata": {
    "collapsed": false,
    "deletable": true,
    "editable": true
   },
   "outputs": [
    {
     "name": "stdout",
     "output_type": "stream",
     "text": [
      "DecisionTreeClassifier(class_weight=None, criterion='gini', max_depth=None,\n",
      "            max_features=None, max_leaf_nodes=7, min_impurity_split=1e-07,\n",
      "            min_samples_leaf=1, min_samples_split=5,\n",
      "            min_weight_fraction_leaf=0.0, presort=False, random_state=None,\n",
      "            splitter='best')\n",
      "mean: 0.75923, std: 0.01249, params: {'max_leaf_nodes': -5} [ 0.74162679  0.76811594  0.76811594]\n",
      "mean: 0.76565, std: 0.01684, params: {'max_leaf_nodes': -4} [ 0.74641148  0.78743961  0.76328502]\n",
      "mean: 0.76726, std: 0.01479, params: {'max_leaf_nodes': -3} [ 0.74641148  0.77777778  0.77777778]\n",
      "mean: 0.76083, std: 0.01485, params: {'max_leaf_nodes': -2} [ 0.74162679  0.77777778  0.76328502]\n",
      "mean: 0.76244, std: 0.01827, params: {'max_leaf_nodes': -1} [ 0.73684211  0.77777778  0.77294686]\n",
      "mean: 0.76244, std: 0.01528, params: {'max_leaf_nodes': None} [ 0.74162679  0.77777778  0.76811594]\n",
      "mean: 0.78331, std: 0.01581, params: {'max_leaf_nodes': 2} [ 0.784689    0.80193237  0.76328502]\n",
      "mean: 0.79454, std: 0.01908, params: {'max_leaf_nodes': 3} [ 0.784689    0.82125604  0.77777778]\n",
      "mean: 0.79454, std: 0.02229, params: {'max_leaf_nodes': 4} [ 0.77990431  0.82608696  0.77777778]\n",
      "mean: 0.80096, std: 0.02608, params: {'max_leaf_nodes': 5} [ 0.79425837  0.83574879  0.77294686]\n",
      "mean: 0.80578, std: 0.02765, params: {'max_leaf_nodes': 6} [ 0.80382775  0.84057971  0.77294686]\n",
      "mean: 0.81541, std: 0.01779, params: {'max_leaf_nodes': 7} [ 0.80382775  0.84057971  0.80193237]\n",
      "mean: 0.81220, std: 0.01666, params: {'max_leaf_nodes': 8} [ 0.79904306  0.83574879  0.80193237]\n"
     ]
    }
   ],
   "source": [
    "clf = DecisionTreeClassifier(min_samples_split=5)\n",
    "gs_clf = GridSearchCV(clf, {'max_leaf_nodes': (-5, -4, -3, -2, -1, None, 2, 3, 4, 5, 6, 7, 8)})\n",
    "gs_clf.fit(np.array(X_train), np.array(y_train))\n",
    "print(gs_clf.best_estimator_)\n",
    "for model in gs_clf.grid_scores_:\n",
    "    print(model, model[2])"
   ]
  },
  {
   "cell_type": "markdown",
   "metadata": {
    "deletable": true,
    "editable": true
   },
   "source": [
    "Попробуем менять максимальное количество узлов. Не знаю, почему. Еще совершенно не понимаю, как он понимает отрицательные значения, хотя некоторые из них дают неплохой результат. Как видно, он выбрал число 7. Почему семь работает лучше остальных? No idea."
   ]
  },
  {
   "cell_type": "code",
   "execution_count": 116,
   "metadata": {
    "collapsed": false,
    "deletable": true,
    "editable": true
   },
   "outputs": [
    {
     "name": "stdout",
     "output_type": "stream",
     "text": [
      "             precision    recall  f1-score   support\n",
      "\n",
      "          0       0.82      0.89      0.86       158\n",
      "          1       0.82      0.73      0.77       110\n",
      "\n",
      "avg / total       0.82      0.82      0.82       268\n",
      "\n"
     ]
    }
   ],
   "source": [
    "y_pred = gs_clf.predict(X_test)\n",
    "print(classification_report(y_test, y_pred))"
   ]
  },
  {
   "cell_type": "code",
   "execution_count": 117,
   "metadata": {
    "collapsed": false,
    "deletable": true,
    "editable": true
   },
   "outputs": [
    {
     "ename": "RuntimeError",
     "evalue": "failed to execute ['dot', '-Tsvg'], make sure the Graphviz executables are on your systems' path",
     "output_type": "error",
     "traceback": [
      "\u001b[0;31m---------------------------------------------------------------------------\u001b[0m",
      "\u001b[0;31mFileNotFoundError\u001b[0m                         Traceback (most recent call last)",
      "\u001b[0;32mc:\\users\\tatiana\\appdata\\local\\programs\\python\\python35-32\\lib\\site-packages\\graphviz\\backend.py\u001b[0m in \u001b[0;36mpipe\u001b[0;34m(engine, format, data)\u001b[0m\n\u001b[1;32m    122\u001b[0m         proc = subprocess.Popen(args, stdin=subprocess.PIPE,\n\u001b[0;32m--> 123\u001b[0;31m             stdout=subprocess.PIPE, startupinfo=STARTUPINFO)\n\u001b[0m\u001b[1;32m    124\u001b[0m     \u001b[1;32mexcept\u001b[0m \u001b[0mOSError\u001b[0m \u001b[1;32mas\u001b[0m \u001b[0me\u001b[0m\u001b[1;33m:\u001b[0m\u001b[1;33m\u001b[0m\u001b[0m\n",
      "\u001b[0;32mc:\\users\\tatiana\\appdata\\local\\programs\\python\\python35-32\\lib\\subprocess.py\u001b[0m in \u001b[0;36m__init__\u001b[0;34m(self, args, bufsize, executable, stdin, stdout, stderr, preexec_fn, close_fds, shell, cwd, env, universal_newlines, startupinfo, creationflags, restore_signals, start_new_session, pass_fds)\u001b[0m\n\u001b[1;32m    946\u001b[0m                                 \u001b[0merrread\u001b[0m\u001b[1;33m,\u001b[0m \u001b[0merrwrite\u001b[0m\u001b[1;33m,\u001b[0m\u001b[1;33m\u001b[0m\u001b[0m\n\u001b[0;32m--> 947\u001b[0;31m                                 restore_signals, start_new_session)\n\u001b[0m\u001b[1;32m    948\u001b[0m         \u001b[1;32mexcept\u001b[0m\u001b[1;33m:\u001b[0m\u001b[1;33m\u001b[0m\u001b[0m\n",
      "\u001b[0;32mc:\\users\\tatiana\\appdata\\local\\programs\\python\\python35-32\\lib\\subprocess.py\u001b[0m in \u001b[0;36m_execute_child\u001b[0;34m(self, args, executable, preexec_fn, close_fds, pass_fds, cwd, env, startupinfo, creationflags, shell, p2cread, p2cwrite, c2pread, c2pwrite, errread, errwrite, unused_restore_signals, unused_start_new_session)\u001b[0m\n\u001b[1;32m   1223\u001b[0m                                          \u001b[0mcwd\u001b[0m\u001b[1;33m,\u001b[0m\u001b[1;33m\u001b[0m\u001b[0m\n\u001b[0;32m-> 1224\u001b[0;31m                                          startupinfo)\n\u001b[0m\u001b[1;32m   1225\u001b[0m             \u001b[1;32mfinally\u001b[0m\u001b[1;33m:\u001b[0m\u001b[1;33m\u001b[0m\u001b[0m\n",
      "\u001b[0;31mFileNotFoundError\u001b[0m: [WinError 2] Не удается найти указанный файл",
      "\nDuring handling of the above exception, another exception occurred:\n",
      "\u001b[0;31mRuntimeError\u001b[0m                              Traceback (most recent call last)",
      "\u001b[0;32mc:\\users\\tatiana\\appdata\\local\\programs\\python\\python35-32\\lib\\site-packages\\IPython\\core\\formatters.py\u001b[0m in \u001b[0;36m__call__\u001b[0;34m(self, obj)\u001b[0m\n\u001b[1;32m    309\u001b[0m             \u001b[0mmethod\u001b[0m \u001b[1;33m=\u001b[0m \u001b[0mget_real_method\u001b[0m\u001b[1;33m(\u001b[0m\u001b[0mobj\u001b[0m\u001b[1;33m,\u001b[0m \u001b[0mself\u001b[0m\u001b[1;33m.\u001b[0m\u001b[0mprint_method\u001b[0m\u001b[1;33m)\u001b[0m\u001b[1;33m\u001b[0m\u001b[0m\n\u001b[1;32m    310\u001b[0m             \u001b[1;32mif\u001b[0m \u001b[0mmethod\u001b[0m \u001b[1;32mis\u001b[0m \u001b[1;32mnot\u001b[0m \u001b[1;32mNone\u001b[0m\u001b[1;33m:\u001b[0m\u001b[1;33m\u001b[0m\u001b[0m\n\u001b[0;32m--> 311\u001b[0;31m                 \u001b[1;32mreturn\u001b[0m \u001b[0mmethod\u001b[0m\u001b[1;33m(\u001b[0m\u001b[1;33m)\u001b[0m\u001b[1;33m\u001b[0m\u001b[0m\n\u001b[0m\u001b[1;32m    312\u001b[0m             \u001b[1;32mreturn\u001b[0m \u001b[1;32mNone\u001b[0m\u001b[1;33m\u001b[0m\u001b[0m\n\u001b[1;32m    313\u001b[0m         \u001b[1;32melse\u001b[0m\u001b[1;33m:\u001b[0m\u001b[1;33m\u001b[0m\u001b[0m\n",
      "\u001b[0;32mc:\\users\\tatiana\\appdata\\local\\programs\\python\\python35-32\\lib\\site-packages\\graphviz\\files.py\u001b[0m in \u001b[0;36m_repr_svg_\u001b[0;34m(self)\u001b[0m\n\u001b[1;32m     81\u001b[0m \u001b[1;33m\u001b[0m\u001b[0m\n\u001b[1;32m     82\u001b[0m     \u001b[1;32mdef\u001b[0m \u001b[0m_repr_svg_\u001b[0m\u001b[1;33m(\u001b[0m\u001b[0mself\u001b[0m\u001b[1;33m)\u001b[0m\u001b[1;33m:\u001b[0m\u001b[1;33m\u001b[0m\u001b[0m\n\u001b[0;32m---> 83\u001b[0;31m         \u001b[1;32mreturn\u001b[0m \u001b[0mself\u001b[0m\u001b[1;33m.\u001b[0m\u001b[0mpipe\u001b[0m\u001b[1;33m(\u001b[0m\u001b[0mformat\u001b[0m\u001b[1;33m=\u001b[0m\u001b[1;34m'svg'\u001b[0m\u001b[1;33m)\u001b[0m\u001b[1;33m.\u001b[0m\u001b[0mdecode\u001b[0m\u001b[1;33m(\u001b[0m\u001b[0mself\u001b[0m\u001b[1;33m.\u001b[0m\u001b[0m_encoding\u001b[0m\u001b[1;33m)\u001b[0m\u001b[1;33m\u001b[0m\u001b[0m\n\u001b[0m\u001b[1;32m     84\u001b[0m \u001b[1;33m\u001b[0m\u001b[0m\n\u001b[1;32m     85\u001b[0m     \u001b[1;32mdef\u001b[0m \u001b[0mpipe\u001b[0m\u001b[1;33m(\u001b[0m\u001b[0mself\u001b[0m\u001b[1;33m,\u001b[0m \u001b[0mformat\u001b[0m\u001b[1;33m=\u001b[0m\u001b[1;32mNone\u001b[0m\u001b[1;33m)\u001b[0m\u001b[1;33m:\u001b[0m\u001b[1;33m\u001b[0m\u001b[0m\n",
      "\u001b[0;32mc:\\users\\tatiana\\appdata\\local\\programs\\python\\python35-32\\lib\\site-packages\\graphviz\\files.py\u001b[0m in \u001b[0;36mpipe\u001b[0;34m(self, format)\u001b[0m\n\u001b[1;32m     96\u001b[0m         \u001b[0mdata\u001b[0m \u001b[1;33m=\u001b[0m \u001b[0mtext_type\u001b[0m\u001b[1;33m(\u001b[0m\u001b[0mself\u001b[0m\u001b[1;33m.\u001b[0m\u001b[0msource\u001b[0m\u001b[1;33m)\u001b[0m\u001b[1;33m.\u001b[0m\u001b[0mencode\u001b[0m\u001b[1;33m(\u001b[0m\u001b[0mself\u001b[0m\u001b[1;33m.\u001b[0m\u001b[0m_encoding\u001b[0m\u001b[1;33m)\u001b[0m\u001b[1;33m\u001b[0m\u001b[0m\n\u001b[1;32m     97\u001b[0m \u001b[1;33m\u001b[0m\u001b[0m\n\u001b[0;32m---> 98\u001b[0;31m         \u001b[0mouts\u001b[0m \u001b[1;33m=\u001b[0m \u001b[0mbackend\u001b[0m\u001b[1;33m.\u001b[0m\u001b[0mpipe\u001b[0m\u001b[1;33m(\u001b[0m\u001b[0mself\u001b[0m\u001b[1;33m.\u001b[0m\u001b[0m_engine\u001b[0m\u001b[1;33m,\u001b[0m \u001b[0mformat\u001b[0m\u001b[1;33m,\u001b[0m \u001b[0mdata\u001b[0m\u001b[1;33m)\u001b[0m\u001b[1;33m\u001b[0m\u001b[0m\n\u001b[0m\u001b[1;32m     99\u001b[0m \u001b[1;33m\u001b[0m\u001b[0m\n\u001b[1;32m    100\u001b[0m         \u001b[1;32mreturn\u001b[0m \u001b[0mouts\u001b[0m\u001b[1;33m\u001b[0m\u001b[0m\n",
      "\u001b[0;32mc:\\users\\tatiana\\appdata\\local\\programs\\python\\python35-32\\lib\\site-packages\\graphviz\\backend.py\u001b[0m in \u001b[0;36mpipe\u001b[0;34m(engine, format, data)\u001b[0m\n\u001b[1;32m    126\u001b[0m             raise RuntimeError('failed to execute %r, '\n\u001b[1;32m    127\u001b[0m                 \u001b[1;34m'make sure the Graphviz executables '\u001b[0m\u001b[1;33m\u001b[0m\u001b[0m\n\u001b[0;32m--> 128\u001b[0;31m                 'are on your systems\\' path' % args)\n\u001b[0m\u001b[1;32m    129\u001b[0m         \u001b[1;32melse\u001b[0m\u001b[1;33m:\u001b[0m  \u001b[1;31m# pragma: no cover\u001b[0m\u001b[1;33m\u001b[0m\u001b[0m\n\u001b[1;32m    130\u001b[0m             \u001b[1;32mraise\u001b[0m\u001b[1;33m\u001b[0m\u001b[0m\n",
      "\u001b[0;31mRuntimeError\u001b[0m: failed to execute ['dot', '-Tsvg'], make sure the Graphviz executables are on your systems' path"
     ]
    },
    {
     "data": {
      "text/plain": [
       "<graphviz.files.Source at 0xa248430>"
      ]
     },
     "execution_count": 117,
     "metadata": {},
     "output_type": "execute_result"
    }
   ],
   "source": [
    "dotfile = open(\"dtreemy.dot\", 'w')\n",
    "export_graphviz(gs_clf.best_estimator_, out_file = dotfile, feature_names = X_train.columns)\n",
    "dotfile.close()\n",
    "\n",
    "with open(\"dtreemy.dot\") as f:\n",
    "    dot_graph = f.read()\n",
    "graphviz.Source(dot_graph)"
   ]
  },
  {
   "cell_type": "markdown",
   "metadata": {},
   "source": [
    "сохранить нужное дерево в dot файл получается, а вот превратить его потом в картинку - нет :("
   ]
  },
  {
   "cell_type": "markdown",
   "metadata": {
    "deletable": true,
    "editable": true
   },
   "source": [
    "# Random Forest ##"
   ]
  },
  {
   "cell_type": "code",
   "execution_count": 118,
   "metadata": {
    "collapsed": true,
    "deletable": true,
    "editable": true
   },
   "outputs": [],
   "source": [
    "model = RandomForestClassifier(min_samples_split=5)"
   ]
  },
  {
   "cell_type": "markdown",
   "metadata": {},
   "source": [
    "попробуем изменять количество деревьев в лесу"
   ]
  },
  {
   "cell_type": "code",
   "execution_count": 119,
   "metadata": {
    "collapsed": false
   },
   "outputs": [
    {
     "name": "stdout",
     "output_type": "stream",
     "text": [
      "865.749276309587 seconds for  398\n",
      "RandomForestClassifier(bootstrap=True, class_weight=None, criterion='gini',\n",
      "            max_depth=None, max_features='auto', max_leaf_nodes=None,\n",
      "            min_impurity_split=1e-07, min_samples_leaf=1,\n",
      "            min_samples_split=5, min_weight_fraction_leaf=0.0,\n",
      "            n_estimators=18, n_jobs=1, oob_score=False, random_state=None,\n",
      "            verbose=0, warm_start=False)\n"
     ]
    }
   ],
   "source": [
    "t1 = time.clock()\n",
    "gs_mod = GridSearchCV(model, {'n_estimators': list(range(2, 400))})\n",
    "gs_mod.fit(np.array(X_train), np.array(y_train))\n",
    "print(time.clock() - t1, 'seconds for ', len(list(range(2, 400))))\n",
    "print(gs_mod.best_estimator_)"
   ]
  },
  {
   "cell_type": "markdown",
   "metadata": {},
   "source": [
    "Лучше всего должно работать со 104 деревьями"
   ]
  },
  {
   "cell_type": "code",
   "execution_count": 120,
   "metadata": {
    "collapsed": false,
    "deletable": true,
    "editable": true
   },
   "outputs": [
    {
     "name": "stdout",
     "output_type": "stream",
     "text": [
      "             precision    recall  f1-score   support\n",
      "\n",
      "          0       0.85      0.89      0.87       158\n",
      "          1       0.83      0.77      0.80       110\n",
      "\n",
      "avg / total       0.84      0.84      0.84       268\n",
      "\n"
     ]
    }
   ],
   "source": [
    "\n",
    "y_pred_forest = gs_mod.predict(X_test)\n",
    "print(classification_report(y_test, y_pred_forest))"
   ]
  },
  {
   "cell_type": "markdown",
   "metadata": {},
   "source": [
    "Ну, ожидалось, что лес лучше одного дерева, но на практике разницы - практически никакой."
   ]
  },
  {
   "cell_type": "markdown",
   "metadata": {},
   "source": [
    "# сравнение моделей"
   ]
  },
  {
   "cell_type": "markdown",
   "metadata": {},
   "source": [
    "Вообще-то модели получились почти одинаковые, так что это немного глупо, ну ладно. Чтобы было поинтереснее, сделаем еще один лес с плохими параметрами (самыми плохими)."
   ]
  },
  {
   "cell_type": "code",
   "execution_count": 137,
   "metadata": {
    "collapsed": false
   },
   "outputs": [
    {
     "name": "stdout",
     "output_type": "stream",
     "text": [
      "{'n_estimators': 3}\n",
      "             precision    recall  f1-score   support\n",
      "\n",
      "          0       0.84      0.82      0.83       158\n",
      "          1       0.75      0.77      0.76       110\n",
      "\n",
      "avg / total       0.80      0.80      0.80       268\n",
      "\n"
     ]
    }
   ],
   "source": [
    "bad_param = sorted(gs_mod.grid_scores_, key=lambda themodel: themodel.mean_validation_score)[0].parameters\n",
    "bad_forest = RandomForestClassifier(n_estimators = bad_param['n_estimators'])\n",
    "bad_forest.fit(np.array(X_train), np.array(y_train))\n",
    "y_pred_bad_forest = bad_forest.predict(X_test)\n",
    "print(bad_param)\n",
    "print(classification_report(y_test, y_pred_bad_forest))"
   ]
  },
  {
   "cell_type": "markdown",
   "metadata": {},
   "source": [
    "Мда, не то чтобы получился сильно другой результат..."
   ]
  },
  {
   "cell_type": "code",
   "execution_count": 138,
   "metadata": {
    "collapsed": false,
    "deletable": true,
    "editable": true
   },
   "outputs": [
    {
     "data": {
      "text/plain": [
       "<matplotlib.axes._subplots.AxesSubplot at 0xa2975d0>"
      ]
     },
     "execution_count": 138,
     "metadata": {},
     "output_type": "execute_result"
    },
    {
     "data": {
      "image/png": "[encoded data removed]",
      "text/plain": [
       "<matplotlib.figure.Figure at 0xa4cfd30>"
      ]
     },
     "metadata": {},
     "output_type": "display_data"
    }
   ],
   "source": [
    "\n",
    "scores = {'tree': f1_score(y_test, y_pred), 'good_forest': f1_score(y_test, y_pred_forest), 'bad_forest': f1_score(y_test, y_pred_bad_forest)}\n",
    "\n",
    "pandas.DataFrame.from_dict(data = scores, orient='index').plot(kind='bar', legend=False)"
   ]
  },
  {
   "cell_type": "markdown",
   "metadata": {},
   "source": [
    "Супер-информативная диаграмма! Построим ROC-кривую."
   ]
  },
  {
   "cell_type": "code",
   "execution_count": 139,
   "metadata": {
    "collapsed": false,
    "deletable": true,
    "editable": true
   },
   "outputs": [
    {
     "data": {
      "text/plain": [
       "<matplotlib.figure.Figure at 0x8e0db90>"
      ]
     },
     "metadata": {},
     "output_type": "display_data"
    },
    {
     "data": {
      "image/png": "[encoded data removed]",
      "text/plain": [
       "<matplotlib.figure.Figure at 0x8e0d8f0>"
      ]
     },
     "metadata": {},
     "output_type": "display_data"
    }
   ],
   "source": [
    "\n",
    "pl.clf()\n",
    "plt.figure(figsize=(8,6))\n",
    "\n",
    "\n",
    "fpr, tpr, thresholds = roc_curve(y_test, y_pred_forest)\n",
    "roc_auc  = auc(fpr, tpr)\n",
    "pl.plot(fpr, tpr, label='%s ROC (area = %0.2f)' % ('forest', roc_auc))\n",
    "\n",
    "fpr, tpr, thresholds = roc_curve(y_test, y_pred_bad_forest)\n",
    "roc_auc  = auc(fpr, tpr)\n",
    "pl.plot(fpr, tpr, label='%s ROC (area = %0.2f)' % ('bad_forest', roc_auc))\n",
    "\n",
    "\n",
    "fpr, tpr, thresholds = roc_curve(y_test, y_pred)\n",
    "roc_auc  = auc(fpr, tpr)\n",
    "pl.plot(fpr, tpr, label='%s ROC (area = %0.2f)' % ('tree', roc_auc))\n",
    "\n",
    "\n",
    "pl.plot([0, 1], [0, 1], 'k--')\n",
    "pl.xlim([0.0, 1.0])\n",
    "pl.ylim([0.0, 1.0])\n",
    "pl.xlabel('False Positive Rate')\n",
    "pl.ylabel('True Positive Rate')\n",
    "pl.legend(loc=0, fontsize='small')\n",
    "pl.show()"
   ]
  },
  {
   "cell_type": "markdown",
   "metadata": {
    "collapsed": true,
    "deletable": true,
    "editable": true
   },
   "source": [
    "Леса почти не видно, потому что он под деревом... Вообще нормальные модели лучше чем плоой лес, кривая выше. "
   ]
  },
  {
   "cell_type": "code",
   "execution_count": null,
   "metadata": {
    "collapsed": true
   },
   "outputs": [],
   "source": []
  }
 ],
 "metadata": {
  "anaconda-cloud": {},
  "kernelspec": {
   "display_name": "Python 3",
   "language": "python",
   "name": "python3"
  },
  "language_info": {
   "codemirror_mode": {
    "name": "ipython",
    "version": 3
   },
   "file_extension": ".py",
   "mimetype": "text/x-python",
   "name": "python",
   "nbconvert_exporter": "python",
   "pygments_lexer": "ipython3",
   "version": "3.5.2"
  }
 },
 "nbformat": 4,
 "nbformat_minor": 1
}
