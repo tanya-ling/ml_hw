{
 "cells": [
  {
   "cell_type": "markdown",
   "metadata": {},
   "source": [
    "# Harry Potter Houses"
   ]
  },
  {
   "cell_type": "code",
   "execution_count": 209,
   "metadata": {
    "collapsed": false
   },
   "outputs": [
    {
     "name": "stderr",
     "output_type": "stream",
     "text": [
      "c:\\users\\tatiana\\appdata\\local\\programs\\python\\python35-32\\lib\\site-packages\\gensim\\utils.py:855: UserWarning: detected Windows; aliasing chunkize to chunkize_serial\n",
      "  warnings.warn(\"detected Windows; aliasing chunkize to chunkize_serial\")\n"
     ]
    }
   ],
   "source": [
    "import pandas\n",
    "import numpy as np\n",
    "from nltk import word_tokenize\n",
    "from nltk.corpus import stopwords\n",
    "from sklearn.feature_extraction.text import CountVectorizer, TfidfTransformer\n",
    "from sklearn.naive_bayes import MultinomialNB\n",
    "from sklearn.metrics import classification_report, f1_score, accuracy_score, confusion_matrix, roc_curve, auc\n",
    "from sklearn.pipeline import Pipeline\n",
    "from sklearn.model_selection import StratifiedKFold, cross_val_score, train_test_split, StratifiedShuffleSplit\n",
    "from sklearn.tree import DecisionTreeClassifier\n",
    "from sklearn.ensemble import RandomForestClassifier\n",
    "import random\n",
    "import pylab as pl\n",
    "from imblearn.over_sampling import RandomOverSampler\n",
    "from nltk import word_tokenize, pos_tag\n",
    "from nltk.stem.wordnet import WordNetLemmatizer\n",
    "import gensim"
   ]
  },
  {
   "cell_type": "code",
   "execution_count": 82,
   "metadata": {
    "collapsed": false
   },
   "outputs": [
    {
     "data": {
      "text/html": [
       "<div>\n",
       "<table border=\"1\" class=\"dataframe\">\n",
       "  <thead>\n",
       "    <tr style=\"text-align: right;\">\n",
       "      <th></th>\n",
       "      <th>name</th>\n",
       "      <th>house</th>\n",
       "      <th>text</th>\n",
       "    </tr>\n",
       "  </thead>\n",
       "  <tbody>\n",
       "    <tr>\n",
       "      <th>0</th>\n",
       "      <td>Harry Potter</td>\n",
       "      <td>Gryffindor</td>\n",
       "      <td>Harry was an extremely brave, loyal, and selfl...</td>\n",
       "    </tr>\n",
       "    <tr>\n",
       "      <th>1</th>\n",
       "      <td>Dolores Umbridge</td>\n",
       "      <td>Slytherin</td>\n",
       "      <td>Dolores Umbridge was nothing short of a sociop...</td>\n",
       "    </tr>\n",
       "    <tr>\n",
       "      <th>2</th>\n",
       "      <td>Horace Slughorn</td>\n",
       "      <td>Slytherin</td>\n",
       "      <td>Horace Slughorn was described as having a bumb...</td>\n",
       "    </tr>\n",
       "    <tr>\n",
       "      <th>3</th>\n",
       "      <td>Albus Dumbledore</td>\n",
       "      <td>Gryffindor</td>\n",
       "      <td>Considered to be the most powerful wizard of h...</td>\n",
       "    </tr>\n",
       "    <tr>\n",
       "      <th>4</th>\n",
       "      <td>Severus Snape</td>\n",
       "      <td>Slytherin</td>\n",
       "      <td>At times, Snape could appear cold, cynical, ma...</td>\n",
       "    </tr>\n",
       "  </tbody>\n",
       "</table>\n",
       "</div>"
      ],
      "text/plain": [
       "               name       house  \\\n",
       "0      Harry Potter  Gryffindor   \n",
       "1  Dolores Umbridge   Slytherin   \n",
       "2   Horace Slughorn   Slytherin   \n",
       "3  Albus Dumbledore  Gryffindor   \n",
       "4     Severus Snape   Slytherin   \n",
       "\n",
       "                                                text  \n",
       "0  Harry was an extremely brave, loyal, and selfl...  \n",
       "1  Dolores Umbridge was nothing short of a sociop...  \n",
       "2  Horace Slughorn was described as having a bumb...  \n",
       "3  Considered to be the most powerful wizard of h...  \n",
       "4  At times, Snape could appear cold, cynical, ma...  "
      ]
     },
     "execution_count": 82,
     "metadata": {},
     "output_type": "execute_result"
    }
   ],
   "source": [
    "path = 'hp-with-text.csv'\n",
    "\n",
    "hp_data = pandas.read_csv(path, sep='\\t',\n",
    "                           names=['name', \"house\", \"text\"], header=1)\n",
    "hp_data.head()"
   ]
  },
  {
   "cell_type": "code",
   "execution_count": 83,
   "metadata": {
    "collapsed": false
   },
   "outputs": [
    {
     "name": "stdout",
     "output_type": "stream",
     "text": [
      "42 26 15 11\n"
     ]
    }
   ],
   "source": [
    "print(len(hp_data[hp_data.house=='Gryffindor']), len(hp_data[hp_data.house=='Slytherin']), len(hp_data[hp_data.house=='Ravenclaw']), len(hp_data[hp_data.house=='Hufflepuff']))"
   ]
  },
  {
   "cell_type": "code",
   "execution_count": 84,
   "metadata": {
    "collapsed": false
   },
   "outputs": [
    {
     "data": {
      "text/plain": [
       "'0.447'"
      ]
     },
     "execution_count": 84,
     "metadata": {},
     "output_type": "execute_result"
    }
   ],
   "source": [
    "dummyresults = ['Gryffindor' for i in range(len(hp_data))]\n",
    "'{0:.3f}'.format(accuracy_score(dummyresults, hp_data.house))"
   ]
  },
  {
   "cell_type": "code",
   "execution_count": 85,
   "metadata": {
    "collapsed": false
   },
   "outputs": [],
   "source": [
    "train, test, train_answers, test_answers = train_test_split(hp_data.text, hp_data.house, test_size=0.2)"
   ]
  },
  {
   "cell_type": "code",
   "execution_count": 166,
   "metadata": {
    "collapsed": false
   },
   "outputs": [],
   "source": [
    "bow = CountVectorizer(stop_words='english', min_df=10, max_df=35)"
   ]
  },
  {
   "cell_type": "code",
   "execution_count": 167,
   "metadata": {
    "collapsed": false
   },
   "outputs": [],
   "source": [
    "bowed_train = bow.fit_transform(train)\n",
    "bowed_test = bow.transform(test)"
   ]
  },
  {
   "cell_type": "code",
   "execution_count": 168,
   "metadata": {
    "collapsed": false,
    "deletable": true,
    "editable": true
   },
   "outputs": [],
   "source": [
    "ros = RandomOverSampler()\n",
    "X_resampled, y_resampled = ros.fit_sample(bowed_train.toarray(), train_answers)"
   ]
  },
  {
   "cell_type": "code",
   "execution_count": 169,
   "metadata": {
    "collapsed": false
   },
   "outputs": [
    {
     "data": {
      "text/plain": [
       "MultinomialNB(alpha=1.0, class_prior=None, fit_prior=True)"
      ]
     },
     "execution_count": 169,
     "metadata": {},
     "output_type": "execute_result"
    }
   ],
   "source": [
    "naive_model = MultinomialNB()\n",
    "naive_model.fit(X_resampled, np.array(y_resampled))"
   ]
  },
  {
   "cell_type": "code",
   "execution_count": 170,
   "metadata": {
    "collapsed": false
   },
   "outputs": [
    {
     "name": "stdout",
     "output_type": "stream",
     "text": [
      "19 19\n",
      "             precision    recall  f1-score   support\n",
      "\n",
      " Gryffindor       0.71      0.56      0.63         9\n",
      " Hufflepuff       0.00      0.00      0.00         2\n",
      "  Ravenclaw       0.40      0.67      0.50         3\n",
      "  Slytherin       0.67      0.80      0.73         5\n",
      "\n",
      "avg / total       0.58      0.58      0.57        19\n",
      "\n",
      "[[5 1 2 1]\n",
      " [0 0 1 1]\n",
      " [1 0 2 0]\n",
      " [1 0 0 4]]\n"
     ]
    }
   ],
   "source": [
    "predicted = naive_model.predict(bowed_test)\n",
    "print(len(test_answers), len(predicted))\n",
    "print(classification_report(test_answers, predicted))\n",
    "print(confusion_matrix(test_answers, predicted))"
   ]
  },
  {
   "cell_type": "markdown",
   "metadata": {},
   "source": [
    "# Try again"
   ]
  },
  {
   "cell_type": "code",
   "execution_count": 200,
   "metadata": {
    "collapsed": false
   },
   "outputs": [],
   "source": [
    "Key_words = {'Gryffindor': 'gryffindor brave honest courage bravery determination worthy phoenix auror'.split(' '),\n",
    "            'Slytherin': 'slytherin dark leader proud ambitious pure-blood'.split(' '),\n",
    "            'Ravenclaw': 'ravenclaw clever wit learning wisdom learn'.split(' '),\n",
    "            'Hufflepuff': 'hyfflepuff good friendly patience loyalty fair loyal friend'.split(' ')}"
   ]
  },
  {
   "cell_type": "code",
   "execution_count": 201,
   "metadata": {
    "collapsed": true
   },
   "outputs": [],
   "source": [
    "stop = set(stopwords.words('english'))\n",
    "\n",
    "def tokenize(text):\n",
    "    text = text.lower()\n",
    "    return word_tokenize(text)\n",
    "\n",
    "lmtzr = WordNetLemmatizer()\n",
    "\n",
    "def lemmatize(word):\n",
    "    if word in stop:\n",
    "        return ''\n",
    "    noun = lmtzr.lemmatize(word)\n",
    "    verb = lmtzr.lemmatize(word, 'v')\n",
    "    if verb != word:\n",
    "        if verb in stop:\n",
    "            return ''\n",
    "        return verb \n",
    "    return noun\n",
    "\n",
    "def lematize(text):\n",
    "    text = tokenize(text)\n",
    "    text = ' '.join([lemmatize(word) for word in text])\n",
    "    return text\n",
    "\n",
    "hp_data.text = [lematize(sent) for sent in hp_data.text]"
   ]
  },
  {
   "cell_type": "code",
   "execution_count": 202,
   "metadata": {
    "collapsed": false
   },
   "outputs": [
    {
     "data": {
      "text/html": [
       "<div>\n",
       "<table border=\"1\" class=\"dataframe\">\n",
       "  <thead>\n",
       "    <tr style=\"text-align: right;\">\n",
       "      <th></th>\n",
       "      <th>name</th>\n",
       "      <th>house</th>\n",
       "      <th>text</th>\n",
       "      <th>vecs</th>\n",
       "    </tr>\n",
       "  </thead>\n",
       "  <tbody>\n",
       "    <tr>\n",
       "      <th>0</th>\n",
       "      <td>Harry Potter</td>\n",
       "      <td>Gryffindor</td>\n",
       "      <td>harry extremely brave , loyal , selfless perso...</td>\n",
       "      <td>[5, 15, 10, 6]</td>\n",
       "    </tr>\n",
       "    <tr>\n",
       "      <th>1</th>\n",
       "      <td>Dolores Umbridge</td>\n",
       "      <td>Slytherin</td>\n",
       "      <td>dolores umbridge nothing short sociopath chara...</td>\n",
       "      <td>[0, 3, 1, 0]</td>\n",
       "    </tr>\n",
       "    <tr>\n",
       "      <th>2</th>\n",
       "      <td>Horace Slughorn</td>\n",
       "      <td>Slytherin</td>\n",
       "      <td>horace slughorn describe bumble , jovial sort ...</td>\n",
       "      <td>[2, 3, 4, 0]</td>\n",
       "    </tr>\n",
       "    <tr>\n",
       "      <th>3</th>\n",
       "      <td>Albus Dumbledore</td>\n",
       "      <td>Gryffindor</td>\n",
       "      <td>consider powerful wizard time , dumbledore ben...</td>\n",
       "      <td>[0, 7, 0, 0]</td>\n",
       "    </tr>\n",
       "    <tr>\n",
       "      <th>4</th>\n",
       "      <td>Severus Snape</td>\n",
       "      <td>Slytherin</td>\n",
       "      <td>time , snape could appear cold , cynical , mal...</td>\n",
       "      <td>[2, 1, 4, 1]</td>\n",
       "    </tr>\n",
       "  </tbody>\n",
       "</table>\n",
       "</div>"
      ],
      "text/plain": [
       "               name       house  \\\n",
       "0      Harry Potter  Gryffindor   \n",
       "1  Dolores Umbridge   Slytherin   \n",
       "2   Horace Slughorn   Slytherin   \n",
       "3  Albus Dumbledore  Gryffindor   \n",
       "4     Severus Snape   Slytherin   \n",
       "\n",
       "                                                text            vecs  \n",
       "0  harry extremely brave , loyal , selfless perso...  [5, 15, 10, 6]  \n",
       "1  dolores umbridge nothing short sociopath chara...    [0, 3, 1, 0]  \n",
       "2  horace slughorn describe bumble , jovial sort ...    [2, 3, 4, 0]  \n",
       "3  consider powerful wizard time , dumbledore ben...    [0, 7, 0, 0]  \n",
       "4  time , snape could appear cold , cynical , mal...    [2, 1, 4, 1]  "
      ]
     },
     "execution_count": 202,
     "metadata": {},
     "output_type": "execute_result"
    }
   ],
   "source": [
    "vectors = []\n",
    "for i in hp_data.text:\n",
    "    vecs = [0, 0, 0, 0]\n",
    "    for word in i.split(' '):\n",
    "        if word in Key_words['Gryffindor']:\n",
    "            vecs[0] += 1\n",
    "        elif word in Key_words['Hufflepuff']:\n",
    "            vecs[1] += 1\n",
    "        if word in Key_words['Slytherin']:\n",
    "            vecs[2] += 1\n",
    "        if word in Key_words['Ravenclaw']:\n",
    "            vecs[3] += 1\n",
    "    vectors.append(vecs)\n",
    "hp_data['vecs'] = vectors\n",
    "hp_data.head()"
   ]
  },
  {
   "cell_type": "code",
   "execution_count": 203,
   "metadata": {
    "collapsed": true
   },
   "outputs": [],
   "source": [
    "train, test, train_answers, test_answers = train_test_split(hp_data.vecs, hp_data.house, test_size=0.2)"
   ]
  },
  {
   "cell_type": "code",
   "execution_count": 204,
   "metadata": {
    "collapsed": false,
    "deletable": true,
    "editable": true
   },
   "outputs": [],
   "source": [
    "ros = RandomOverSampler()\n",
    "X_resampled, y_resampled = ros.fit_sample(bowed_train.toarray(), train_answers)"
   ]
  },
  {
   "cell_type": "code",
   "execution_count": 205,
   "metadata": {
    "collapsed": false,
    "deletable": true,
    "editable": true
   },
   "outputs": [
    {
     "data": {
      "text/plain": [
       "MultinomialNB(alpha=1.0, class_prior=None, fit_prior=True)"
      ]
     },
     "execution_count": 205,
     "metadata": {},
     "output_type": "execute_result"
    }
   ],
   "source": [
    "naive_model = MultinomialNB()\n",
    "naive_model.fit(X_resampled, np.array(y_resampled))"
   ]
  },
  {
   "cell_type": "code",
   "execution_count": 206,
   "metadata": {
    "collapsed": false,
    "deletable": true,
    "editable": true
   },
   "outputs": [
    {
     "name": "stdout",
     "output_type": "stream",
     "text": [
      "19 19\n",
      "             precision    recall  f1-score   support\n",
      "\n",
      " Gryffindor       0.40      0.50      0.44         8\n",
      " Hufflepuff       0.00      0.00      0.00         2\n",
      "  Ravenclaw       0.00      0.00      0.00         4\n",
      "  Slytherin       0.33      0.20      0.25         5\n",
      "\n",
      "avg / total       0.26      0.26      0.25        19\n",
      "\n",
      "[[4 4 0 0]\n",
      " [1 0 0 1]\n",
      " [1 2 0 1]\n",
      " [4 0 0 1]]\n"
     ]
    },
    {
     "name": "stderr",
     "output_type": "stream",
     "text": [
      "c:\\users\\tatiana\\appdata\\local\\programs\\python\\python35-32\\lib\\site-packages\\sklearn\\metrics\\classification.py:1113: UndefinedMetricWarning: Precision and F-score are ill-defined and being set to 0.0 in labels with no predicted samples.\n",
      "  'precision', 'predicted', average, warn_for)\n"
     ]
    }
   ],
   "source": [
    "predicted = naive_model.predict(bowed_test)\n",
    "print(len(test_answers), len(predicted))\n",
    "print(classification_report(test_answers, predicted))\n",
    "print(confusion_matrix(test_answers, predicted))"
   ]
  },
  {
   "cell_type": "code",
   "execution_count": null,
   "metadata": {
    "collapsed": true
   },
   "outputs": [],
   "source": []
  },
  {
   "cell_type": "markdown",
   "metadata": {},
   "source": [
    "# expand keywords"
   ]
  },
  {
   "cell_type": "code",
   "execution_count": 211,
   "metadata": {
    "collapsed": false
   },
   "outputs": [
    {
     "ename": "DeprecationWarning",
     "evalue": "Deprecated. Use gensim.models.KeyedVectors.load_word2vec_format instead.",
     "output_type": "error",
     "traceback": [
      "\u001b[0;31m---------------------------------------------------------------------------\u001b[0m",
      "\u001b[0;31mDeprecationWarning\u001b[0m                        Traceback (most recent call last)",
      "\u001b[0;32m<ipython-input-211-00197d120093>\u001b[0m in \u001b[0;36m<module>\u001b[0;34m()\u001b[0m\n\u001b[1;32m      3\u001b[0m     \u001b[0mmodel\u001b[0m \u001b[1;33m=\u001b[0m \u001b[0mgensim\u001b[0m\u001b[1;33m.\u001b[0m\u001b[0mmodels\u001b[0m\u001b[1;33m.\u001b[0m\u001b[0mWord2Vec\u001b[0m\u001b[1;33m.\u001b[0m\u001b[0mload_word2vec_format\u001b[0m\u001b[1;33m(\u001b[0m\u001b[0mm\u001b[0m\u001b[1;33m,\u001b[0m \u001b[0mbinary\u001b[0m\u001b[1;33m=\u001b[0m\u001b[1;32mFalse\u001b[0m\u001b[1;33m)\u001b[0m\u001b[1;33m\u001b[0m\u001b[0m\n\u001b[1;32m      4\u001b[0m \u001b[1;32melif\u001b[0m \u001b[0mm\u001b[0m\u001b[1;33m.\u001b[0m\u001b[0mendswith\u001b[0m\u001b[1;33m(\u001b[0m\u001b[1;34m'.bin.gz'\u001b[0m\u001b[1;33m)\u001b[0m\u001b[1;33m:\u001b[0m\u001b[1;33m\u001b[0m\u001b[0m\n\u001b[0;32m----> 5\u001b[0;31m     \u001b[0mmodel\u001b[0m \u001b[1;33m=\u001b[0m \u001b[0mgensim\u001b[0m\u001b[1;33m.\u001b[0m\u001b[0mmodels\u001b[0m\u001b[1;33m.\u001b[0m\u001b[0mWord2Vec\u001b[0m\u001b[1;33m.\u001b[0m\u001b[0mload_word2vec_format\u001b[0m\u001b[1;33m(\u001b[0m\u001b[0mm\u001b[0m\u001b[1;33m,\u001b[0m \u001b[0mbinary\u001b[0m\u001b[1;33m=\u001b[0m\u001b[1;32mTrue\u001b[0m\u001b[1;33m)\u001b[0m\u001b[1;33m\u001b[0m\u001b[0m\n\u001b[0m\u001b[1;32m      6\u001b[0m \u001b[1;32melse\u001b[0m\u001b[1;33m:\u001b[0m\u001b[1;33m\u001b[0m\u001b[0m\n\u001b[1;32m      7\u001b[0m     \u001b[0mmodel\u001b[0m \u001b[1;33m=\u001b[0m \u001b[0mgensim\u001b[0m\u001b[1;33m.\u001b[0m\u001b[0mmodels\u001b[0m\u001b[1;33m.\u001b[0m\u001b[0mWord2Vec\u001b[0m\u001b[1;33m.\u001b[0m\u001b[0mload\u001b[0m\u001b[1;33m(\u001b[0m\u001b[0mm\u001b[0m\u001b[1;33m)\u001b[0m\u001b[1;33m\u001b[0m\u001b[0m\n",
      "\u001b[0;32mc:\\users\\tatiana\\appdata\\local\\programs\\python\\python35-32\\lib\\site-packages\\gensim\\models\\word2vec.py\u001b[0m in \u001b[0;36mload_word2vec_format\u001b[0;34m(cls, fname, fvocab, binary, encoding, unicode_errors, limit, datatype)\u001b[0m\n\u001b[1;32m   1306\u001b[0m                          limit=None, datatype=REAL):\n\u001b[1;32m   1307\u001b[0m         \u001b[1;34m\"\"\"Deprecated. Use gensim.models.KeyedVectors.load_word2vec_format instead.\"\"\"\u001b[0m\u001b[1;33m\u001b[0m\u001b[0m\n\u001b[0;32m-> 1308\u001b[0;31m         \u001b[1;32mraise\u001b[0m \u001b[0mDeprecationWarning\u001b[0m\u001b[1;33m(\u001b[0m\u001b[1;34m\"Deprecated. Use gensim.models.KeyedVectors.load_word2vec_format instead.\"\u001b[0m\u001b[1;33m)\u001b[0m\u001b[1;33m\u001b[0m\u001b[0m\n\u001b[0m\u001b[1;32m   1309\u001b[0m \u001b[1;33m\u001b[0m\u001b[0m\n\u001b[1;32m   1310\u001b[0m     \u001b[1;32mdef\u001b[0m \u001b[0msave_word2vec_format\u001b[0m\u001b[1;33m(\u001b[0m\u001b[0mself\u001b[0m\u001b[1;33m,\u001b[0m \u001b[0mfname\u001b[0m\u001b[1;33m,\u001b[0m \u001b[0mfvocab\u001b[0m\u001b[1;33m=\u001b[0m\u001b[1;32mNone\u001b[0m\u001b[1;33m,\u001b[0m \u001b[0mbinary\u001b[0m\u001b[1;33m=\u001b[0m\u001b[1;32mFalse\u001b[0m\u001b[1;33m)\u001b[0m\u001b[1;33m:\u001b[0m\u001b[1;33m\u001b[0m\u001b[0m\n",
      "\u001b[0;31mDeprecationWarning\u001b[0m: Deprecated. Use gensim.models.KeyedVectors.load_word2vec_format instead."
     ]
    }
   ],
   "source": [
    "m = '.\\GoogleNews-vectors-negative300.bin.gz'\n",
    "if m.endswith('.vec.gz'):\n",
    "    model = gensim.models.Word2Vec.load_word2vec_format(m, binary=False)\n",
    "elif m.endswith('.bin.gz'):\n",
    "    model = gensim.models.Word2Vec.load_word2vec_format(m, binary=True)\n",
    "else:\n",
    "    model = gensim.models.Word2Vec.load(m)"
   ]
  },
  {
   "cell_type": "code",
   "execution_count": 202,
   "metadata": {
    "collapsed": false,
    "deletable": true,
    "editable": true
   },
   "outputs": [
    {
     "data": {
      "text/html": [
       "<div>\n",
       "<table border=\"1\" class=\"dataframe\">\n",
       "  <thead>\n",
       "    <tr style=\"text-align: right;\">\n",
       "      <th></th>\n",
       "      <th>name</th>\n",
       "      <th>house</th>\n",
       "      <th>text</th>\n",
       "      <th>vecs</th>\n",
       "    </tr>\n",
       "  </thead>\n",
       "  <tbody>\n",
       "    <tr>\n",
       "      <th>0</th>\n",
       "      <td>Harry Potter</td>\n",
       "      <td>Gryffindor</td>\n",
       "      <td>harry extremely brave , loyal , selfless perso...</td>\n",
       "      <td>[5, 15, 10, 6]</td>\n",
       "    </tr>\n",
       "    <tr>\n",
       "      <th>1</th>\n",
       "      <td>Dolores Umbridge</td>\n",
       "      <td>Slytherin</td>\n",
       "      <td>dolores umbridge nothing short sociopath chara...</td>\n",
       "      <td>[0, 3, 1, 0]</td>\n",
       "    </tr>\n",
       "    <tr>\n",
       "      <th>2</th>\n",
       "      <td>Horace Slughorn</td>\n",
       "      <td>Slytherin</td>\n",
       "      <td>horace slughorn describe bumble , jovial sort ...</td>\n",
       "      <td>[2, 3, 4, 0]</td>\n",
       "    </tr>\n",
       "    <tr>\n",
       "      <th>3</th>\n",
       "      <td>Albus Dumbledore</td>\n",
       "      <td>Gryffindor</td>\n",
       "      <td>consider powerful wizard time , dumbledore ben...</td>\n",
       "      <td>[0, 7, 0, 0]</td>\n",
       "    </tr>\n",
       "    <tr>\n",
       "      <th>4</th>\n",
       "      <td>Severus Snape</td>\n",
       "      <td>Slytherin</td>\n",
       "      <td>time , snape could appear cold , cynical , mal...</td>\n",
       "      <td>[2, 1, 4, 1]</td>\n",
       "    </tr>\n",
       "  </tbody>\n",
       "</table>\n",
       "</div>"
      ],
      "text/plain": [
       "               name       house  \\\n",
       "0      Harry Potter  Gryffindor   \n",
       "1  Dolores Umbridge   Slytherin   \n",
       "2   Horace Slughorn   Slytherin   \n",
       "3  Albus Dumbledore  Gryffindor   \n",
       "4     Severus Snape   Slytherin   \n",
       "\n",
       "                                                text            vecs  \n",
       "0  harry extremely brave , loyal , selfless perso...  [5, 15, 10, 6]  \n",
       "1  dolores umbridge nothing short sociopath chara...    [0, 3, 1, 0]  \n",
       "2  horace slughorn describe bumble , jovial sort ...    [2, 3, 4, 0]  \n",
       "3  consider powerful wizard time , dumbledore ben...    [0, 7, 0, 0]  \n",
       "4  time , snape could appear cold , cynical , mal...    [2, 1, 4, 1]  "
      ]
     },
     "execution_count": 202,
     "metadata": {},
     "output_type": "execute_result"
    }
   ],
   "source": [
    "vectors = []\n",
    "for i in hp_data.text:\n",
    "    vecs = [0, 0, 0, 0]\n",
    "    for word in i.split(' '):\n",
    "        if word in Key_words['Gryffindor']:\n",
    "            vecs[0] += 1\n",
    "        elif word in Key_words['Hufflepuff']:\n",
    "            vecs[1] += 1\n",
    "        if word in Key_words['Slytherin']:\n",
    "            vecs[2] += 1\n",
    "        if word in Key_words['Ravenclaw']:\n",
    "            vecs[3] += 1\n",
    "    vectors.append(vecs)\n",
    "hp_data['vecs'] = vectors\n",
    "hp_data.head()"
   ]
  },
  {
   "cell_type": "code",
   "execution_count": 203,
   "metadata": {
    "collapsed": true,
    "deletable": true,
    "editable": true
   },
   "outputs": [],
   "source": [
    "train, test, train_answers, test_answers = train_test_split(hp_data.vecs, hp_data.house, test_size=0.2)"
   ]
  },
  {
   "cell_type": "code",
   "execution_count": 204,
   "metadata": {
    "collapsed": false,
    "deletable": true,
    "editable": true
   },
   "outputs": [],
   "source": [
    "ros = RandomOverSampler()\n",
    "X_resampled, y_resampled = ros.fit_sample(bowed_train.toarray(), train_answers)"
   ]
  },
  {
   "cell_type": "code",
   "execution_count": 205,
   "metadata": {
    "collapsed": false,
    "deletable": true,
    "editable": true
   },
   "outputs": [
    {
     "data": {
      "text/plain": [
       "MultinomialNB(alpha=1.0, class_prior=None, fit_prior=True)"
      ]
     },
     "execution_count": 205,
     "metadata": {},
     "output_type": "execute_result"
    }
   ],
   "source": [
    "naive_model = MultinomialNB()\n",
    "naive_model.fit(X_resampled, np.array(y_resampled))"
   ]
  },
  {
   "cell_type": "code",
   "execution_count": 206,
   "metadata": {
    "collapsed": false,
    "deletable": true,
    "editable": true
   },
   "outputs": [
    {
     "name": "stdout",
     "output_type": "stream",
     "text": [
      "19 19\n",
      "             precision    recall  f1-score   support\n",
      "\n",
      " Gryffindor       0.40      0.50      0.44         8\n",
      " Hufflepuff       0.00      0.00      0.00         2\n",
      "  Ravenclaw       0.00      0.00      0.00         4\n",
      "  Slytherin       0.33      0.20      0.25         5\n",
      "\n",
      "avg / total       0.26      0.26      0.25        19\n",
      "\n",
      "[[4 4 0 0]\n",
      " [1 0 0 1]\n",
      " [1 2 0 1]\n",
      " [4 0 0 1]]\n"
     ]
    },
    {
     "name": "stderr",
     "output_type": "stream",
     "text": [
      "c:\\users\\tatiana\\appdata\\local\\programs\\python\\python35-32\\lib\\site-packages\\sklearn\\metrics\\classification.py:1113: UndefinedMetricWarning: Precision and F-score are ill-defined and being set to 0.0 in labels with no predicted samples.\n",
      "  'precision', 'predicted', average, warn_for)\n"
     ]
    }
   ],
   "source": [
    "predicted = naive_model.predict(bowed_test)\n",
    "print(len(test_answers), len(predicted))\n",
    "print(classification_report(test_answers, predicted))\n",
    "print(confusion_matrix(test_answers, predicted))"
   ]
  }
 ],
 "metadata": {
  "kernelspec": {
   "display_name": "Python 3",
   "language": "python",
   "name": "python3"
  },
  "language_info": {
   "codemirror_mode": {
    "name": "ipython",
    "version": 3
   },
   "file_extension": ".py",
   "mimetype": "text/x-python",
   "name": "python",
   "nbconvert_exporter": "python",
   "pygments_lexer": "ipython3",
   "version": "3.5.2"
  }
 },
 "nbformat": 4,
 "nbformat_minor": 2
}
